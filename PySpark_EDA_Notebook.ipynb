{
 "cells": [
  {
   "cell_type": "markdown",
   "metadata": {
    "id": "cmictOfJvdml"
   },
   "source": [
    "<h2 align=\"center\"> Pandas Vs Pyspark </h2>"
   ]
  },
  {
   "cell_type": "markdown",
   "metadata": {
    "id": "13eUEVZqvdmn"
   },
   "source": [
    "Resources : <br>\n",
    "https://sparkbyexamples.com/<br>\n",
    "https://github.com/srivatsan88/"
   ]
  },
  {
   "cell_type": "markdown",
   "metadata": {},
   "source": [
    "If Java not installed Install JAVA too and Set the required environment variable<br>\n",
    "Link : https://www.youtube.com/watch?v=XvbEADU0IPU&t=729s&ab_channel=TheAIUniversity"
   ]
  },
  {
   "cell_type": "markdown",
   "metadata": {},
   "source": [
    "#### Loading & Reading Data"
   ]
  },
  {
   "cell_type": "code",
   "execution_count": 1,
   "metadata": {
    "executionInfo": {
     "elapsed": 450,
     "status": "ok",
     "timestamp": 1658806982790,
     "user": {
      "displayName": "krishnendu dey",
      "userId": "08038349177473993606"
     },
     "user_tz": -330
    },
    "id": "QFKPIq5Kvdmr"
   },
   "outputs": [],
   "source": [
    "import pandas as pd \n",
    "import numpy as np"
   ]
  },
  {
   "cell_type": "code",
   "execution_count": 2,
   "metadata": {
    "executionInfo": {
     "elapsed": 11614,
     "status": "ok",
     "timestamp": 1658806994400,
     "user": {
      "displayName": "krishnendu dey",
      "userId": "08038349177473993606"
     },
     "user_tz": -330
    },
    "id": "gGISzAVTvdms"
   },
   "outputs": [],
   "source": [
    "from pyspark.sql import SparkSession\n",
    "from pyspark.sql.functions import *\n",
    "\n",
    "spark=SparkSession.builder.appName(\"Pyspark_EDA\").getOrCreate()"
   ]
  },
  {
   "cell_type": "code",
   "execution_count": 3,
   "metadata": {
    "colab": {
     "base_uri": "https://localhost:8080/",
     "height": 219
    },
    "executionInfo": {
     "elapsed": 1551,
     "status": "ok",
     "timestamp": 1658807001622,
     "user": {
      "displayName": "krishnendu dey",
      "userId": "08038349177473993606"
     },
     "user_tz": -330
    },
    "id": "3L1NsYwwvdmt",
    "outputId": "b7596f7d-78f3-4981-fa35-3015671015cd"
   },
   "outputs": [
    {
     "data": {
      "text/html": [
       "\n",
       "            <div>\n",
       "                <p><b>SparkSession - in-memory</b></p>\n",
       "                \n",
       "        <div>\n",
       "            <p><b>SparkContext</b></p>\n",
       "\n",
       "            <p><a href=\"http://KD:4040\">Spark UI</a></p>\n",
       "\n",
       "            <dl>\n",
       "              <dt>Version</dt>\n",
       "                <dd><code>v3.3.1</code></dd>\n",
       "              <dt>Master</dt>\n",
       "                <dd><code>local[*]</code></dd>\n",
       "              <dt>AppName</dt>\n",
       "                <dd><code>Pyspark_EDA</code></dd>\n",
       "            </dl>\n",
       "        </div>\n",
       "        \n",
       "            </div>\n",
       "        "
      ],
      "text/plain": [
       "<pyspark.sql.session.SparkSession at 0x1793180d670>"
      ]
     },
     "execution_count": 3,
     "metadata": {},
     "output_type": "execute_result"
    }
   ],
   "source": [
    "spark"
   ]
  },
  {
   "cell_type": "code",
   "execution_count": 90,
   "metadata": {
    "colab": {
     "base_uri": "https://localhost:8080/",
     "height": 143
    },
    "executionInfo": {
     "elapsed": 506,
     "status": "ok",
     "timestamp": 1658807415877,
     "user": {
      "displayName": "krishnendu dey",
      "userId": "08038349177473993606"
     },
     "user_tz": -330
    },
    "id": "-TiXSclwvdmu",
    "outputId": "477cbe4e-879b-4318-d3cd-6bc9c772ba59"
   },
   "outputs": [
    {
     "data": {
      "text/html": [
       "<div>\n",
       "<style scoped>\n",
       "    .dataframe tbody tr th:only-of-type {\n",
       "        vertical-align: middle;\n",
       "    }\n",
       "\n",
       "    .dataframe tbody tr th {\n",
       "        vertical-align: top;\n",
       "    }\n",
       "\n",
       "    .dataframe thead th {\n",
       "        text-align: right;\n",
       "    }\n",
       "</style>\n",
       "<table border=\"1\" class=\"dataframe\">\n",
       "  <thead>\n",
       "    <tr style=\"text-align: right;\">\n",
       "      <th></th>\n",
       "      <th>PassengerId</th>\n",
       "      <th>Survived</th>\n",
       "      <th>Pclass</th>\n",
       "      <th>Name</th>\n",
       "      <th>Sex</th>\n",
       "      <th>Age</th>\n",
       "      <th>SibSp</th>\n",
       "      <th>Parch</th>\n",
       "      <th>Ticket</th>\n",
       "      <th>Fare</th>\n",
       "      <th>Cabin</th>\n",
       "      <th>Embarked</th>\n",
       "    </tr>\n",
       "  </thead>\n",
       "  <tbody>\n",
       "    <tr>\n",
       "      <th>0</th>\n",
       "      <td>0</td>\n",
       "      <td>1</td>\n",
       "      <td>1</td>\n",
       "      <td>Oconnor, Frankie</td>\n",
       "      <td>male</td>\n",
       "      <td>NaN</td>\n",
       "      <td>2</td>\n",
       "      <td>0</td>\n",
       "      <td>209245</td>\n",
       "      <td>27.14</td>\n",
       "      <td>C12239</td>\n",
       "      <td>S</td>\n",
       "    </tr>\n",
       "    <tr>\n",
       "      <th>1</th>\n",
       "      <td>1</td>\n",
       "      <td>0</td>\n",
       "      <td>3</td>\n",
       "      <td>Bryan, Drew</td>\n",
       "      <td>male</td>\n",
       "      <td>NaN</td>\n",
       "      <td>0</td>\n",
       "      <td>0</td>\n",
       "      <td>27323</td>\n",
       "      <td>13.35</td>\n",
       "      <td>NaN</td>\n",
       "      <td>S</td>\n",
       "    </tr>\n",
       "    <tr>\n",
       "      <th>2</th>\n",
       "      <td>2</td>\n",
       "      <td>0</td>\n",
       "      <td>3</td>\n",
       "      <td>Owens, Kenneth</td>\n",
       "      <td>male</td>\n",
       "      <td>0.33</td>\n",
       "      <td>1</td>\n",
       "      <td>2</td>\n",
       "      <td>CA 457703</td>\n",
       "      <td>71.29</td>\n",
       "      <td>NaN</td>\n",
       "      <td>S</td>\n",
       "    </tr>\n",
       "  </tbody>\n",
       "</table>\n",
       "</div>"
      ],
      "text/plain": [
       "   PassengerId  Survived  Pclass              Name   Sex   Age  SibSp  Parch  \\\n",
       "0            0         1       1  Oconnor, Frankie  male   NaN      2      0   \n",
       "1            1         0       3       Bryan, Drew  male   NaN      0      0   \n",
       "2            2         0       3    Owens, Kenneth  male  0.33      1      2   \n",
       "\n",
       "      Ticket   Fare   Cabin Embarked  \n",
       "0     209245  27.14  C12239        S  \n",
       "1      27323  13.35     NaN        S  \n",
       "2  CA 457703  71.29     NaN        S  "
      ]
     },
     "execution_count": 90,
     "metadata": {},
     "output_type": "execute_result"
    }
   ],
   "source": [
    "# Reading the .csv file in Pandas\n",
    "\n",
    "df_pandas=pd.read_csv(\"Data/Titanic.csv\")\n",
    "df_pandas.head(3)"
   ]
  },
  {
   "cell_type": "code",
   "execution_count": 91,
   "metadata": {
    "colab": {
     "base_uri": "https://localhost:8080/"
    },
    "executionInfo": {
     "elapsed": 3620,
     "status": "ok",
     "timestamp": 1658807420009,
     "user": {
      "displayName": "krishnendu dey",
      "userId": "08038349177473993606"
     },
     "user_tz": -330
    },
    "id": "XMrHNEygvdmv",
    "outputId": "68bed7b4-4908-4507-c7ba-a667312676d7"
   },
   "outputs": [
    {
     "name": "stdout",
     "output_type": "stream",
     "text": [
      "+-----------+--------+------+----------------+----+----+-----+-----+---------+-----+------+--------+\n",
      "|PassengerId|Survived|Pclass|            Name| Sex| Age|SibSp|Parch|   Ticket| Fare| Cabin|Embarked|\n",
      "+-----------+--------+------+----------------+----+----+-----+-----+---------+-----+------+--------+\n",
      "|          0|       1|     1|Oconnor, Frankie|male|null|    2|    0|   209245|27.14|C12239|       S|\n",
      "|          1|       0|     3|     Bryan, Drew|male|null|    0|    0|    27323|13.35|  null|       S|\n",
      "|          2|       0|     3|  Owens, Kenneth|male|0.33|    1|    2|CA 457703|71.29|  null|       S|\n",
      "+-----------+--------+------+----------------+----+----+-----+-----+---------+-----+------+--------+\n",
      "only showing top 3 rows\n",
      "\n"
     ]
    }
   ],
   "source": [
    "# File location and type\n",
    "\n",
    "# If inferSchema is false then all the datatypes are considered to be of string datatypes by default.\n",
    "\n",
    "df_pyspark=spark.read.option('header','true').csv(\"Data/Titanic.csv\",inferSchema=True)\n",
    "df_pyspark.show(3)"
   ]
  },
  {
   "cell_type": "code",
   "execution_count": 6,
   "metadata": {
    "colab": {
     "base_uri": "https://localhost:8080/"
    },
    "executionInfo": {
     "elapsed": 8,
     "status": "ok",
     "timestamp": 1658807420009,
     "user": {
      "displayName": "krishnendu dey",
      "userId": "08038349177473993606"
     },
     "user_tz": -330
    },
    "id": "YiY4F7zovdmw",
    "outputId": "b8484f0b-d6c0-40d8-abeb-2db6c7e9bc42"
   },
   "outputs": [
    {
     "data": {
      "text/plain": [
       "Row(PassengerId=0, Survived=1, Pclass=1, Name='Oconnor, Frankie', Sex='male', Age=None, SibSp=2, Parch=0, Ticket='209245', Fare=27.14, Cabin='C12239', Embarked='S')"
      ]
     },
     "execution_count": 6,
     "metadata": {},
     "output_type": "execute_result"
    }
   ],
   "source": [
    "df_pyspark.first()         # Returns the first Row "
   ]
  },
  {
   "cell_type": "code",
   "execution_count": 7,
   "metadata": {
    "colab": {
     "base_uri": "https://localhost:8080/"
    },
    "executionInfo": {
     "elapsed": 645,
     "status": "ok",
     "timestamp": 1658807420649,
     "user": {
      "displayName": "krishnendu dey",
      "userId": "08038349177473993606"
     },
     "user_tz": -330
    },
    "id": "KfBIrbf0vdmx",
    "outputId": "0bae000c-4bc6-46ed-f116-025d3d500082"
   },
   "outputs": [
    {
     "data": {
      "text/plain": [
       "[Row(PassengerId=0, Survived=1, Pclass=1, Name='Oconnor, Frankie', Sex='male', Age=None, SibSp=2, Parch=0, Ticket='209245', Fare=27.14, Cabin='C12239', Embarked='S'),\n",
       " Row(PassengerId=1, Survived=0, Pclass=3, Name='Bryan, Drew', Sex='male', Age=None, SibSp=0, Parch=0, Ticket='27323', Fare=13.35, Cabin=None, Embarked='S'),\n",
       " Row(PassengerId=2, Survived=0, Pclass=3, Name='Owens, Kenneth', Sex='male', Age=0.33, SibSp=1, Parch=2, Ticket='CA 457703', Fare=71.29, Cabin=None, Embarked='S')]"
      ]
     },
     "execution_count": 7,
     "metadata": {},
     "output_type": "execute_result"
    }
   ],
   "source": [
    "df_pyspark.take(3)         # Returns a list of first 3 Rows"
   ]
  },
  {
   "cell_type": "markdown",
   "metadata": {
    "id": "EB3qVXOSvdmy"
   },
   "source": [
    "#### Dataframe Information "
   ]
  },
  {
   "cell_type": "code",
   "execution_count": 8,
   "metadata": {
    "colab": {
     "base_uri": "https://localhost:8080/"
    },
    "executionInfo": {
     "elapsed": 385,
     "status": "ok",
     "timestamp": 1658726092294,
     "user": {
      "displayName": "krishnendu dey",
      "userId": "08038349177473993606"
     },
     "user_tz": -330
    },
    "id": "c_S6crPvvdmy",
    "outputId": "8b9754e3-25c4-45d3-9d3f-c2249a5ec130"
   },
   "outputs": [
    {
     "name": "stdout",
     "output_type": "stream",
     "text": [
      "Pandas DataFrame Type : <class 'pandas.core.frame.DataFrame'>\n",
      "Pyspark DataFrame Type <class 'pyspark.sql.dataframe.DataFrame'>\n"
     ]
    }
   ],
   "source": [
    "# Type \n",
    "print(\"Pandas DataFrame Type :\",type(df_pandas))\n",
    "print(\"Pyspark DataFrame Type\", type(df_pyspark))"
   ]
  },
  {
   "cell_type": "code",
   "execution_count": 9,
   "metadata": {
    "colab": {
     "base_uri": "https://localhost:8080/"
    },
    "executionInfo": {
     "elapsed": 2059,
     "status": "ok",
     "timestamp": 1658730668610,
     "user": {
      "displayName": "krishnendu dey",
      "userId": "08038349177473993606"
     },
     "user_tz": -330
    },
    "id": "dDPAl5VVvdmz",
    "outputId": "f5d8ef9b-cd64-4a4e-ab87-2556e834f7b1"
   },
   "outputs": [
    {
     "name": "stdout",
     "output_type": "stream",
     "text": [
      "Size of the Pandas dataframe (Rows*Columns) :  1200000\n",
      "Size of the Pyspark dataframe (Rows*Columns) :  1200000\n"
     ]
    }
   ],
   "source": [
    "# Size\n",
    "print(\"Size of the Pandas dataframe (Rows*Columns) : \",df_pandas.size)\n",
    "print(\"Size of the Pyspark dataframe (Rows*Columns) : \",(df_pyspark.count()*len(df_pyspark.columns)))"
   ]
  },
  {
   "cell_type": "code",
   "execution_count": 10,
   "metadata": {
    "id": "teIfsVI7vdmz",
    "outputId": "1b07cb40-8855-41d4-943d-3fa645076e15"
   },
   "outputs": [
    {
     "name": "stdout",
     "output_type": "stream",
     "text": [
      "Total memory Usage of the Pandas Dataframe : 9600128\n",
      "Total memory Usage of the Pyspark Dataframe : 7600128\n"
     ]
    }
   ],
   "source": [
    "# Memory usage\n",
    "print(\"Total memory Usage of the Pandas Dataframe :\",df_pandas.memory_usage().sum())\n",
    "print(\"Total memory Usage of the Pyspark Dataframe :\",df_pyspark.toPandas().memory_usage().sum())\n"
   ]
  },
  {
   "cell_type": "markdown",
   "metadata": {
    "id": "sqKUXOfCvdm0"
   },
   "source": [
    "#### Dataframe Shape information"
   ]
  },
  {
   "cell_type": "code",
   "execution_count": 11,
   "metadata": {
    "colab": {
     "base_uri": "https://localhost:8080/"
    },
    "executionInfo": {
     "elapsed": 1979,
     "status": "ok",
     "timestamp": 1658730645032,
     "user": {
      "displayName": "krishnendu dey",
      "userId": "08038349177473993606"
     },
     "user_tz": -330
    },
    "id": "GZnGm2gIvdm0",
    "outputId": "6cc10afa-3812-4cfd-f8c0-98f2e6032d2e",
    "scrolled": true
   },
   "outputs": [
    {
     "name": "stdout",
     "output_type": "stream",
     "text": [
      "Number of Rows :\n",
      "\n",
      "100000\n",
      "100000\n",
      "Number of Columns :\n",
      "\n",
      "12\n",
      "12\n"
     ]
    }
   ],
   "source": [
    "# For number of rows\n",
    "print(\"Number of Rows :\\n\")\n",
    "print(df_pandas.shape[0])         # Pandas\n",
    "print(df_pyspark.count())         # Pyspark\n",
    "\n",
    "# For number of columns\n",
    "print(\"Number of Columns :\\n\")\n",
    "print(df_pandas.shape[1])        # Pandas\n",
    "print(len(df_pyspark.columns))   # Pyspark"
   ]
  },
  {
   "cell_type": "markdown",
   "metadata": {
    "id": "qFiVw98Mvdm1"
   },
   "source": [
    "#### Dataframe Column Information"
   ]
  },
  {
   "cell_type": "code",
   "execution_count": 12,
   "metadata": {
    "colab": {
     "base_uri": "https://localhost:8080/"
    },
    "executionInfo": {
     "elapsed": 449,
     "status": "ok",
     "timestamp": 1658730679520,
     "user": {
      "displayName": "krishnendu dey",
      "userId": "08038349177473993606"
     },
     "user_tz": -330
    },
    "id": "CWaBkrQcvdm1",
    "outputId": "12dff3eb-fe2e-4424-ccca-4b4f97268845",
    "scrolled": true
   },
   "outputs": [
    {
     "name": "stdout",
     "output_type": "stream",
     "text": [
      "Index(['PassengerId', 'Survived', 'Pclass', 'Name', 'Sex', 'Age', 'SibSp',\n",
      "       'Parch', 'Ticket', 'Fare', 'Cabin', 'Embarked'],\n",
      "      dtype='object')\n",
      "['PassengerId', 'Survived', 'Pclass', 'Name', 'Sex', 'Age', 'SibSp', 'Parch', 'Ticket', 'Fare', 'Cabin', 'Embarked']\n"
     ]
    }
   ],
   "source": [
    "print(df_pandas.columns)            # Pandas\n",
    "print(df_pyspark.columns)           # Pyspark"
   ]
  },
  {
   "cell_type": "code",
   "execution_count": 13,
   "metadata": {
    "colab": {
     "base_uri": "https://localhost:8080/"
    },
    "executionInfo": {
     "elapsed": 5,
     "status": "ok",
     "timestamp": 1658730682867,
     "user": {
      "displayName": "krishnendu dey",
      "userId": "08038349177473993606"
     },
     "user_tz": -330
    },
    "id": "MM4mdkjavdm2",
    "outputId": "5b7106a3-58a0-43c5-a72e-2004c7c18d3a"
   },
   "outputs": [
    {
     "name": "stdout",
     "output_type": "stream",
     "text": [
      "<class 'pandas.core.indexes.base.Index'>\n",
      "<class 'list'>\n"
     ]
    }
   ],
   "source": [
    "print(type(df_pandas.columns))\n",
    "print(type(df_pyspark.columns))"
   ]
  },
  {
   "cell_type": "markdown",
   "metadata": {
    "id": "eVPQvhSXvdm2"
   },
   "source": [
    "#### Checking datatypes "
   ]
  },
  {
   "cell_type": "code",
   "execution_count": 14,
   "metadata": {
    "colab": {
     "base_uri": "https://localhost:8080/"
    },
    "executionInfo": {
     "elapsed": 6,
     "status": "ok",
     "timestamp": 1658730694657,
     "user": {
      "displayName": "krishnendu dey",
      "userId": "08038349177473993606"
     },
     "user_tz": -330
    },
    "id": "K4CapFaRvdm3",
    "outputId": "5d392aaf-7432-4fd6-acfd-b0628b33060a"
   },
   "outputs": [
    {
     "data": {
      "text/plain": [
       "PassengerId      int64\n",
       "Survived         int64\n",
       "Pclass           int64\n",
       "Name            object\n",
       "Sex             object\n",
       "Age            float64\n",
       "SibSp            int64\n",
       "Parch            int64\n",
       "Ticket          object\n",
       "Fare           float64\n",
       "Cabin           object\n",
       "Embarked        object\n",
       "dtype: object"
      ]
     },
     "execution_count": 14,
     "metadata": {},
     "output_type": "execute_result"
    }
   ],
   "source": [
    "df_pandas.dtypes"
   ]
  },
  {
   "cell_type": "code",
   "execution_count": 15,
   "metadata": {
    "colab": {
     "base_uri": "https://localhost:8080/"
    },
    "executionInfo": {
     "elapsed": 6,
     "status": "ok",
     "timestamp": 1658730696407,
     "user": {
      "displayName": "krishnendu dey",
      "userId": "08038349177473993606"
     },
     "user_tz": -330
    },
    "id": "lp_Nrrj2vdm3",
    "outputId": "b4a9ebde-9359-4ac9-bac6-b3249bb3f543",
    "scrolled": true
   },
   "outputs": [
    {
     "data": {
      "text/plain": [
       "[('PassengerId', 'int'),\n",
       " ('Survived', 'int'),\n",
       " ('Pclass', 'int'),\n",
       " ('Name', 'string'),\n",
       " ('Sex', 'string'),\n",
       " ('Age', 'double'),\n",
       " ('SibSp', 'int'),\n",
       " ('Parch', 'int'),\n",
       " ('Ticket', 'string'),\n",
       " ('Fare', 'double'),\n",
       " ('Cabin', 'string'),\n",
       " ('Embarked', 'string')]"
      ]
     },
     "execution_count": 15,
     "metadata": {},
     "output_type": "execute_result"
    }
   ],
   "source": [
    "df_pyspark.dtypes"
   ]
  },
  {
   "cell_type": "code",
   "execution_count": 16,
   "metadata": {
    "colab": {
     "base_uri": "https://localhost:8080/"
    },
    "executionInfo": {
     "elapsed": 5,
     "status": "ok",
     "timestamp": 1658730698144,
     "user": {
      "displayName": "krishnendu dey",
      "userId": "08038349177473993606"
     },
     "user_tz": -330
    },
    "id": "W5bMBODjvdm4",
    "outputId": "106109d4-f684-4490-faf9-fe99fd9aa4b7"
   },
   "outputs": [
    {
     "data": {
      "text/plain": [
       "dtype('float64')"
      ]
     },
     "execution_count": 16,
     "metadata": {},
     "output_type": "execute_result"
    }
   ],
   "source": [
    "df_pandas.Age.dtype"
   ]
  },
  {
   "cell_type": "code",
   "execution_count": 17,
   "metadata": {
    "colab": {
     "base_uri": "https://localhost:8080/"
    },
    "executionInfo": {
     "elapsed": 769,
     "status": "ok",
     "timestamp": 1658731566793,
     "user": {
      "displayName": "krishnendu dey",
      "userId": "08038349177473993606"
     },
     "user_tz": -330
    },
    "id": "28STpVcCvdm4",
    "outputId": "b11702c4-9499-4a32-8c47-1f1416aa5c09"
   },
   "outputs": [
    {
     "data": {
      "text/plain": [
       "[('Age', 'double')]"
      ]
     },
     "execution_count": 17,
     "metadata": {},
     "output_type": "execute_result"
    }
   ],
   "source": [
    "df_pyspark.select('Age').dtypes  # Pyspark has no attribute called dtype like pandas\n",
    "#Alternate code : df_pyspark.select(df_pyspark['Age']).dtypes"
   ]
  },
  {
   "cell_type": "code",
   "execution_count": 18,
   "metadata": {
    "colab": {
     "base_uri": "https://localhost:8080/"
    },
    "executionInfo": {
     "elapsed": 410,
     "status": "ok",
     "timestamp": 1658731569727,
     "user": {
      "displayName": "krishnendu dey",
      "userId": "08038349177473993606"
     },
     "user_tz": -330
    },
    "id": "oRxIzNncFlEL",
    "outputId": "4dfb936c-561a-4f77-c10c-6e40c466699f"
   },
   "outputs": [
    {
     "data": {
      "text/plain": [
       "Age         float64\n",
       "Survived      int64\n",
       "dtype: object"
      ]
     },
     "execution_count": 18,
     "metadata": {},
     "output_type": "execute_result"
    }
   ],
   "source": [
    "# Checking datatypes of more than 1 column in Pandas\n",
    "\n",
    "df_pandas[['Age','Survived']].dtypes"
   ]
  },
  {
   "cell_type": "code",
   "execution_count": 19,
   "metadata": {
    "colab": {
     "base_uri": "https://localhost:8080/"
    },
    "executionInfo": {
     "elapsed": 549,
     "status": "ok",
     "timestamp": 1658731571683,
     "user": {
      "displayName": "krishnendu dey",
      "userId": "08038349177473993606"
     },
     "user_tz": -330
    },
    "id": "R3OpTp-ZFkCE",
    "outputId": "315b526a-0cd2-4c8e-a4e7-eac57bdaea1f"
   },
   "outputs": [
    {
     "data": {
      "text/plain": [
       "[('Age', 'double'), ('Survived', 'int')]"
      ]
     },
     "execution_count": 19,
     "metadata": {},
     "output_type": "execute_result"
    }
   ],
   "source": [
    "# Checking datatypes of more than 1 column in Pyspark\n",
    "\n",
    "df_pyspark.select('Age','Survived').dtypes"
   ]
  },
  {
   "cell_type": "markdown",
   "metadata": {
    "id": "pxwUtAY-vdm4"
   },
   "source": [
    "#### Datatype Conversion"
   ]
  },
  {
   "cell_type": "code",
   "execution_count": 20,
   "metadata": {
    "colab": {
     "base_uri": "https://localhost:8080/"
    },
    "executionInfo": {
     "elapsed": 405,
     "status": "ok",
     "timestamp": 1658732047001,
     "user": {
      "displayName": "krishnendu dey",
      "userId": "08038349177473993606"
     },
     "user_tz": -330
    },
    "id": "0uB6JwPtvdm4",
    "outputId": "8bc3ca31-10d9-4b6c-8247-4f26f6738cd1"
   },
   "outputs": [
    {
     "data": {
      "text/plain": [
       "dtype('O')"
      ]
     },
     "execution_count": 20,
     "metadata": {},
     "output_type": "execute_result"
    }
   ],
   "source": [
    "# Converting PassengerId to Object datatype\n",
    "df_pandas.PassengerId=df_pandas.PassengerId.astype('str')\n",
    "df_pandas.PassengerId.dtype"
   ]
  },
  {
   "cell_type": "code",
   "execution_count": 21,
   "metadata": {
    "colab": {
     "base_uri": "https://localhost:8080/"
    },
    "executionInfo": {
     "elapsed": 674,
     "status": "ok",
     "timestamp": 1658732049015,
     "user": {
      "displayName": "krishnendu dey",
      "userId": "08038349177473993606"
     },
     "user_tz": -330
    },
    "id": "BOJTKQI0vdm5",
    "outputId": "e3f01a30-42ef-43e8-cf66-93e8e3eb5694"
   },
   "outputs": [
    {
     "data": {
      "text/plain": [
       "[('PassengerId', 'string')]"
      ]
     },
     "execution_count": 21,
     "metadata": {},
     "output_type": "execute_result"
    }
   ],
   "source": [
    "from pyspark.sql.types import StringType\n",
    "\n",
    "df_pyspark.select(df_pyspark['PassengerId'].cast(StringType())).dtypes"
   ]
  },
  {
   "cell_type": "markdown",
   "metadata": {
    "id": "4rTOTmfTvdm5"
   },
   "source": [
    "#### Schema Information "
   ]
  },
  {
   "cell_type": "code",
   "execution_count": 22,
   "metadata": {
    "colab": {
     "base_uri": "https://localhost:8080/"
    },
    "executionInfo": {
     "elapsed": 603,
     "status": "ok",
     "timestamp": 1658732053313,
     "user": {
      "displayName": "krishnendu dey",
      "userId": "08038349177473993606"
     },
     "user_tz": -330
    },
    "id": "nQHVH2SYvdm5",
    "outputId": "f4535f66-4499-446e-bab0-c6a21913d6d4"
   },
   "outputs": [
    {
     "name": "stdout",
     "output_type": "stream",
     "text": [
      "<class 'pandas.core.frame.DataFrame'>\n",
      "RangeIndex: 100000 entries, 0 to 99999\n",
      "Data columns (total 12 columns):\n",
      " #   Column       Non-Null Count   Dtype  \n",
      "---  ------       --------------   -----  \n",
      " 0   PassengerId  100000 non-null  object \n",
      " 1   Survived     100000 non-null  int64  \n",
      " 2   Pclass       100000 non-null  int64  \n",
      " 3   Name         100000 non-null  object \n",
      " 4   Sex          100000 non-null  object \n",
      " 5   Age          96708 non-null   float64\n",
      " 6   SibSp        100000 non-null  int64  \n",
      " 7   Parch        100000 non-null  int64  \n",
      " 8   Ticket       95377 non-null   object \n",
      " 9   Fare         99866 non-null   float64\n",
      " 10  Cabin        32134 non-null   object \n",
      " 11  Embarked     99750 non-null   object \n",
      "dtypes: float64(2), int64(4), object(6)\n",
      "memory usage: 9.2+ MB\n"
     ]
    }
   ],
   "source": [
    "df_pandas.info()"
   ]
  },
  {
   "cell_type": "code",
   "execution_count": 23,
   "metadata": {
    "colab": {
     "base_uri": "https://localhost:8080/"
    },
    "executionInfo": {
     "elapsed": 404,
     "status": "ok",
     "timestamp": 1658732250101,
     "user": {
      "displayName": "krishnendu dey",
      "userId": "08038349177473993606"
     },
     "user_tz": -330
    },
    "id": "Tu-jxEiRvdm6",
    "outputId": "b7921788-518c-491c-de26-a1f3ddf7f9ac",
    "scrolled": true
   },
   "outputs": [
    {
     "name": "stdout",
     "output_type": "stream",
     "text": [
      "root\n",
      " |-- PassengerId: integer (nullable = true)\n",
      " |-- Survived: integer (nullable = true)\n",
      " |-- Pclass: integer (nullable = true)\n",
      " |-- Name: string (nullable = true)\n",
      " |-- Sex: string (nullable = true)\n",
      " |-- Age: double (nullable = true)\n",
      " |-- SibSp: integer (nullable = true)\n",
      " |-- Parch: integer (nullable = true)\n",
      " |-- Ticket: string (nullable = true)\n",
      " |-- Fare: double (nullable = true)\n",
      " |-- Cabin: string (nullable = true)\n",
      " |-- Embarked: string (nullable = true)\n",
      "\n"
     ]
    }
   ],
   "source": [
    "# Checking Schema \n",
    "\n",
    "df_pyspark.printSchema()        # Pandas : df.info()"
   ]
  },
  {
   "cell_type": "markdown",
   "metadata": {
    "id": "Otjh2gvxvdm6"
   },
   "source": [
    "#### Selecting Only Specific Columns"
   ]
  },
  {
   "cell_type": "code",
   "execution_count": 24,
   "metadata": {
    "colab": {
     "base_uri": "https://localhost:8080/",
     "height": 313
    },
    "executionInfo": {
     "elapsed": 606,
     "status": "error",
     "timestamp": 1658732427631,
     "user": {
      "displayName": "krishnendu dey",
      "userId": "08038349177473993606"
     },
     "user_tz": -330
    },
    "id": "xQxtK0j4vdm6",
    "outputId": "db30e71f-74a3-4c76-8360-19ab0db764e3"
   },
   "outputs": [
    {
     "data": {
      "text/html": [
       "<div>\n",
       "<style scoped>\n",
       "    .dataframe tbody tr th:only-of-type {\n",
       "        vertical-align: middle;\n",
       "    }\n",
       "\n",
       "    .dataframe tbody tr th {\n",
       "        vertical-align: top;\n",
       "    }\n",
       "\n",
       "    .dataframe thead th {\n",
       "        text-align: right;\n",
       "    }\n",
       "</style>\n",
       "<table border=\"1\" class=\"dataframe\">\n",
       "  <thead>\n",
       "    <tr style=\"text-align: right;\">\n",
       "      <th></th>\n",
       "      <th>Name</th>\n",
       "      <th>Sex</th>\n",
       "    </tr>\n",
       "  </thead>\n",
       "  <tbody>\n",
       "    <tr>\n",
       "      <th>0</th>\n",
       "      <td>Oconnor, Frankie</td>\n",
       "      <td>male</td>\n",
       "    </tr>\n",
       "    <tr>\n",
       "      <th>1</th>\n",
       "      <td>Bryan, Drew</td>\n",
       "      <td>male</td>\n",
       "    </tr>\n",
       "    <tr>\n",
       "      <th>2</th>\n",
       "      <td>Owens, Kenneth</td>\n",
       "      <td>male</td>\n",
       "    </tr>\n",
       "    <tr>\n",
       "      <th>3</th>\n",
       "      <td>Kramer, James</td>\n",
       "      <td>male</td>\n",
       "    </tr>\n",
       "    <tr>\n",
       "      <th>4</th>\n",
       "      <td>Bond, Michael</td>\n",
       "      <td>male</td>\n",
       "    </tr>\n",
       "  </tbody>\n",
       "</table>\n",
       "</div>"
      ],
      "text/plain": [
       "               Name   Sex\n",
       "0  Oconnor, Frankie  male\n",
       "1       Bryan, Drew  male\n",
       "2    Owens, Kenneth  male\n",
       "3     Kramer, James  male\n",
       "4     Bond, Michael  male"
      ]
     },
     "execution_count": 24,
     "metadata": {},
     "output_type": "execute_result"
    }
   ],
   "source": [
    "df_pandas[['Name','Sex']].head()"
   ]
  },
  {
   "cell_type": "code",
   "execution_count": 25,
   "metadata": {
    "colab": {
     "base_uri": "https://localhost:8080/"
    },
    "executionInfo": {
     "elapsed": 422,
     "status": "ok",
     "timestamp": 1658732268424,
     "user": {
      "displayName": "krishnendu dey",
      "userId": "08038349177473993606"
     },
     "user_tz": -330
    },
    "id": "DQI198Mdvdm7",
    "outputId": "50176444-2cd6-4b6a-e4a7-307852d09bbd"
   },
   "outputs": [
    {
     "name": "stdout",
     "output_type": "stream",
     "text": [
      "+----------------+----+\n",
      "|            Name| Sex|\n",
      "+----------------+----+\n",
      "|Oconnor, Frankie|male|\n",
      "|     Bryan, Drew|male|\n",
      "|  Owens, Kenneth|male|\n",
      "|   Kramer, James|male|\n",
      "|   Bond, Michael|male|\n",
      "+----------------+----+\n",
      "only showing top 5 rows\n",
      "\n"
     ]
    }
   ],
   "source": [
    "df_pyspark.select(['Name','Sex']).show(5)  #To select only Name and Sex column"
   ]
  },
  {
   "cell_type": "markdown",
   "metadata": {
    "id": "D7TjIezCvdm7"
   },
   "source": [
    "#### Renaming column"
   ]
  },
  {
   "cell_type": "code",
   "execution_count": 27,
   "metadata": {
    "colab": {
     "base_uri": "https://localhost:8080/",
     "height": 112
    },
    "executionInfo": {
     "elapsed": 644,
     "status": "ok",
     "timestamp": 1658732276262,
     "user": {
      "displayName": "krishnendu dey",
      "userId": "08038349177473993606"
     },
     "user_tz": -330
    },
    "id": "H6SpMlrHvdm8",
    "outputId": "935f4bd3-0c60-423c-8c10-1c42df8f7715"
   },
   "outputs": [
    {
     "data": {
      "text/html": [
       "<div>\n",
       "<style scoped>\n",
       "    .dataframe tbody tr th:only-of-type {\n",
       "        vertical-align: middle;\n",
       "    }\n",
       "\n",
       "    .dataframe tbody tr th {\n",
       "        vertical-align: top;\n",
       "    }\n",
       "\n",
       "    .dataframe thead th {\n",
       "        text-align: right;\n",
       "    }\n",
       "</style>\n",
       "<table border=\"1\" class=\"dataframe\">\n",
       "  <thead>\n",
       "    <tr style=\"text-align: right;\">\n",
       "      <th></th>\n",
       "      <th>PassengerId</th>\n",
       "      <th>Survived</th>\n",
       "      <th>Pclass</th>\n",
       "      <th>Fullname</th>\n",
       "      <th>Sex</th>\n",
       "      <th>Age</th>\n",
       "      <th>SibSp</th>\n",
       "      <th>Parch</th>\n",
       "      <th>Ticket</th>\n",
       "      <th>Fare</th>\n",
       "      <th>Cabin</th>\n",
       "      <th>Embarked</th>\n",
       "    </tr>\n",
       "  </thead>\n",
       "  <tbody>\n",
       "    <tr>\n",
       "      <th>0</th>\n",
       "      <td>0</td>\n",
       "      <td>1</td>\n",
       "      <td>1</td>\n",
       "      <td>Oconnor, Frankie</td>\n",
       "      <td>male</td>\n",
       "      <td>NaN</td>\n",
       "      <td>2</td>\n",
       "      <td>0</td>\n",
       "      <td>209245</td>\n",
       "      <td>27.14</td>\n",
       "      <td>C12239</td>\n",
       "      <td>S</td>\n",
       "    </tr>\n",
       "    <tr>\n",
       "      <th>1</th>\n",
       "      <td>1</td>\n",
       "      <td>0</td>\n",
       "      <td>3</td>\n",
       "      <td>Bryan, Drew</td>\n",
       "      <td>male</td>\n",
       "      <td>NaN</td>\n",
       "      <td>0</td>\n",
       "      <td>0</td>\n",
       "      <td>27323</td>\n",
       "      <td>13.35</td>\n",
       "      <td>NaN</td>\n",
       "      <td>S</td>\n",
       "    </tr>\n",
       "  </tbody>\n",
       "</table>\n",
       "</div>"
      ],
      "text/plain": [
       "  PassengerId  Survived  Pclass          Fullname   Sex  Age  SibSp  Parch  \\\n",
       "0           0         1       1  Oconnor, Frankie  male  NaN      2      0   \n",
       "1           1         0       3       Bryan, Drew  male  NaN      0      0   \n",
       "\n",
       "   Ticket   Fare   Cabin Embarked  \n",
       "0  209245  27.14  C12239        S  \n",
       "1   27323  13.35     NaN        S  "
      ]
     },
     "execution_count": 27,
     "metadata": {},
     "output_type": "execute_result"
    }
   ],
   "source": [
    "df_pandas.rename(columns = {'Name':'Fullname'}, inplace = True)\n",
    "df_pandas.head(2)"
   ]
  },
  {
   "cell_type": "code",
   "execution_count": 28,
   "metadata": {
    "colab": {
     "base_uri": "https://localhost:8080/"
    },
    "executionInfo": {
     "elapsed": 414,
     "status": "ok",
     "timestamp": 1658732282800,
     "user": {
      "displayName": "krishnendu dey",
      "userId": "08038349177473993606"
     },
     "user_tz": -330
    },
    "id": "Fm7q_DJpvdm8",
    "outputId": "381e07d8-6844-42cb-ba64-f8935723ef9c",
    "scrolled": true
   },
   "outputs": [
    {
     "name": "stdout",
     "output_type": "stream",
     "text": [
      "+-----------+--------+------+----------------+----+----+-----+-----+------+-----+------+--------+\n",
      "|PassengerId|Survived|Pclass|        FullName| Sex| Age|SibSp|Parch|Ticket| Fare| Cabin|Embarked|\n",
      "+-----------+--------+------+----------------+----+----+-----+-----+------+-----+------+--------+\n",
      "|          0|       1|     1|Oconnor, Frankie|male|null|    2|    0|209245|27.14|C12239|       S|\n",
      "|          1|       0|     3|     Bryan, Drew|male|null|    0|    0| 27323|13.35|  null|       S|\n",
      "+-----------+--------+------+----------------+----+----+-----+-----+------+-----+------+--------+\n",
      "only showing top 2 rows\n",
      "\n"
     ]
    }
   ],
   "source": [
    "df_pyspark=df_pyspark.withColumnRenamed('Name','FullName') # Pyspark dataframe do not have the inplace argument like pandas\n",
    "df_pyspark.show(2)"
   ]
  },
  {
   "cell_type": "markdown",
   "metadata": {
    "id": "kOk38PTpvdm8"
   },
   "source": [
    "#### Adding new column"
   ]
  },
  {
   "cell_type": "code",
   "execution_count": 29,
   "metadata": {
    "colab": {
     "base_uri": "https://localhost:8080/",
     "height": 143
    },
    "executionInfo": {
     "elapsed": 430,
     "status": "ok",
     "timestamp": 1658732448955,
     "user": {
      "displayName": "krishnendu dey",
      "userId": "08038349177473993606"
     },
     "user_tz": -330
    },
    "id": "xmeslkygvdm9",
    "outputId": "b62fecab-7bf5-4d93-fa0b-37a638796030",
    "scrolled": true
   },
   "outputs": [
    {
     "data": {
      "text/html": [
       "<div>\n",
       "<style scoped>\n",
       "    .dataframe tbody tr th:only-of-type {\n",
       "        vertical-align: middle;\n",
       "    }\n",
       "\n",
       "    .dataframe tbody tr th {\n",
       "        vertical-align: top;\n",
       "    }\n",
       "\n",
       "    .dataframe thead th {\n",
       "        text-align: right;\n",
       "    }\n",
       "</style>\n",
       "<table border=\"1\" class=\"dataframe\">\n",
       "  <thead>\n",
       "    <tr style=\"text-align: right;\">\n",
       "      <th></th>\n",
       "      <th>PassengerId</th>\n",
       "      <th>Survived</th>\n",
       "      <th>Pclass</th>\n",
       "      <th>Fullname</th>\n",
       "      <th>Sex</th>\n",
       "      <th>Age</th>\n",
       "      <th>SibSp</th>\n",
       "      <th>Parch</th>\n",
       "      <th>Ticket</th>\n",
       "      <th>Fare</th>\n",
       "      <th>Cabin</th>\n",
       "      <th>Embarked</th>\n",
       "      <th>RoundedFare</th>\n",
       "    </tr>\n",
       "  </thead>\n",
       "  <tbody>\n",
       "    <tr>\n",
       "      <th>0</th>\n",
       "      <td>0</td>\n",
       "      <td>1</td>\n",
       "      <td>1</td>\n",
       "      <td>Oconnor, Frankie</td>\n",
       "      <td>male</td>\n",
       "      <td>NaN</td>\n",
       "      <td>2</td>\n",
       "      <td>0</td>\n",
       "      <td>209245</td>\n",
       "      <td>27.14</td>\n",
       "      <td>C12239</td>\n",
       "      <td>S</td>\n",
       "      <td>27.0</td>\n",
       "    </tr>\n",
       "    <tr>\n",
       "      <th>1</th>\n",
       "      <td>1</td>\n",
       "      <td>0</td>\n",
       "      <td>3</td>\n",
       "      <td>Bryan, Drew</td>\n",
       "      <td>male</td>\n",
       "      <td>NaN</td>\n",
       "      <td>0</td>\n",
       "      <td>0</td>\n",
       "      <td>27323</td>\n",
       "      <td>13.35</td>\n",
       "      <td>NaN</td>\n",
       "      <td>S</td>\n",
       "      <td>13.0</td>\n",
       "    </tr>\n",
       "    <tr>\n",
       "      <th>2</th>\n",
       "      <td>2</td>\n",
       "      <td>0</td>\n",
       "      <td>3</td>\n",
       "      <td>Owens, Kenneth</td>\n",
       "      <td>male</td>\n",
       "      <td>0.33</td>\n",
       "      <td>1</td>\n",
       "      <td>2</td>\n",
       "      <td>CA 457703</td>\n",
       "      <td>71.29</td>\n",
       "      <td>NaN</td>\n",
       "      <td>S</td>\n",
       "      <td>71.0</td>\n",
       "    </tr>\n",
       "  </tbody>\n",
       "</table>\n",
       "</div>"
      ],
      "text/plain": [
       "  PassengerId  Survived  Pclass          Fullname   Sex   Age  SibSp  Parch  \\\n",
       "0           0         1       1  Oconnor, Frankie  male   NaN      2      0   \n",
       "1           1         0       3       Bryan, Drew  male   NaN      0      0   \n",
       "2           2         0       3    Owens, Kenneth  male  0.33      1      2   \n",
       "\n",
       "      Ticket   Fare   Cabin Embarked  RoundedFare  \n",
       "0     209245  27.14  C12239        S         27.0  \n",
       "1      27323  13.35     NaN        S         13.0  \n",
       "2  CA 457703  71.29     NaN        S         71.0  "
      ]
     },
     "execution_count": 29,
     "metadata": {},
     "output_type": "execute_result"
    }
   ],
   "source": [
    "df_pandas['RoundedFare']=np.round(df_pandas.Fare)\n",
    "df_pandas.head(3)"
   ]
  },
  {
   "cell_type": "code",
   "execution_count": 30,
   "metadata": {
    "colab": {
     "base_uri": "https://localhost:8080/"
    },
    "executionInfo": {
     "elapsed": 387,
     "status": "ok",
     "timestamp": 1658732465478,
     "user": {
      "displayName": "krishnendu dey",
      "userId": "08038349177473993606"
     },
     "user_tz": -330
    },
    "id": "eSR9PtLBvdm9",
    "outputId": "294b5be8-347c-40f0-fadf-b53e764c4de4",
    "scrolled": true
   },
   "outputs": [
    {
     "name": "stdout",
     "output_type": "stream",
     "text": [
      "+-----------+--------+------+----------------+----+----+-----+-----+---------+-----+------+--------+-----------+\n",
      "|PassengerId|Survived|Pclass|        FullName| Sex| Age|SibSp|Parch|   Ticket| Fare| Cabin|Embarked|RoundedFare|\n",
      "+-----------+--------+------+----------------+----+----+-----+-----+---------+-----+------+--------+-----------+\n",
      "|          0|       1|     1|Oconnor, Frankie|male|null|    2|    0|   209245|27.14|C12239|       S|       27.0|\n",
      "|          1|       0|     3|     Bryan, Drew|male|null|    0|    0|    27323|13.35|  null|       S|       13.0|\n",
      "|          2|       0|     3|  Owens, Kenneth|male|0.33|    1|    2|CA 457703|71.29|  null|       S|       71.0|\n",
      "+-----------+--------+------+----------------+----+----+-----+-----+---------+-----+------+--------+-----------+\n",
      "only showing top 3 rows\n",
      "\n"
     ]
    }
   ],
   "source": [
    "df_pyspark.withColumn(\"RoundedFare\",round(df_pyspark['Fare'])).show(3)"
   ]
  },
  {
   "cell_type": "markdown",
   "metadata": {
    "id": "c69pB8oGvdm9"
   },
   "source": [
    "#### Filters"
   ]
  },
  {
   "cell_type": "code",
   "execution_count": 31,
   "metadata": {
    "colab": {
     "base_uri": "https://localhost:8080/",
     "height": 206
    },
    "executionInfo": {
     "elapsed": 420,
     "status": "ok",
     "timestamp": 1658732491309,
     "user": {
      "displayName": "krishnendu dey",
      "userId": "08038349177473993606"
     },
     "user_tz": -330
    },
    "id": "23i0Kcewvdm9",
    "outputId": "dca611e3-6d5b-48a0-94a1-d7317055cbf4"
   },
   "outputs": [
    {
     "data": {
      "text/html": [
       "<div>\n",
       "<style scoped>\n",
       "    .dataframe tbody tr th:only-of-type {\n",
       "        vertical-align: middle;\n",
       "    }\n",
       "\n",
       "    .dataframe tbody tr th {\n",
       "        vertical-align: top;\n",
       "    }\n",
       "\n",
       "    .dataframe thead th {\n",
       "        text-align: right;\n",
       "    }\n",
       "</style>\n",
       "<table border=\"1\" class=\"dataframe\">\n",
       "  <thead>\n",
       "    <tr style=\"text-align: right;\">\n",
       "      <th></th>\n",
       "      <th>PassengerId</th>\n",
       "      <th>Survived</th>\n",
       "      <th>Pclass</th>\n",
       "      <th>Fullname</th>\n",
       "      <th>Sex</th>\n",
       "      <th>Age</th>\n",
       "      <th>SibSp</th>\n",
       "      <th>Parch</th>\n",
       "      <th>Ticket</th>\n",
       "      <th>Fare</th>\n",
       "      <th>Cabin</th>\n",
       "      <th>Embarked</th>\n",
       "      <th>RoundedFare</th>\n",
       "    </tr>\n",
       "  </thead>\n",
       "  <tbody>\n",
       "    <tr>\n",
       "      <th>0</th>\n",
       "      <td>0</td>\n",
       "      <td>1</td>\n",
       "      <td>1</td>\n",
       "      <td>Oconnor, Frankie</td>\n",
       "      <td>male</td>\n",
       "      <td>NaN</td>\n",
       "      <td>2</td>\n",
       "      <td>0</td>\n",
       "      <td>209245</td>\n",
       "      <td>27.14</td>\n",
       "      <td>C12239</td>\n",
       "      <td>S</td>\n",
       "      <td>27.0</td>\n",
       "    </tr>\n",
       "    <tr>\n",
       "      <th>8</th>\n",
       "      <td>8</td>\n",
       "      <td>0</td>\n",
       "      <td>1</td>\n",
       "      <td>Wardlaw, Michael</td>\n",
       "      <td>male</td>\n",
       "      <td>27.0</td>\n",
       "      <td>2</td>\n",
       "      <td>1</td>\n",
       "      <td>474849</td>\n",
       "      <td>73.02</td>\n",
       "      <td>A7253</td>\n",
       "      <td>S</td>\n",
       "      <td>73.0</td>\n",
       "    </tr>\n",
       "    <tr>\n",
       "      <th>11</th>\n",
       "      <td>11</td>\n",
       "      <td>0</td>\n",
       "      <td>1</td>\n",
       "      <td>Telschow, Robert</td>\n",
       "      <td>male</td>\n",
       "      <td>60.0</td>\n",
       "      <td>0</td>\n",
       "      <td>0</td>\n",
       "      <td>19600</td>\n",
       "      <td>31.50</td>\n",
       "      <td>A9055</td>\n",
       "      <td>S</td>\n",
       "      <td>32.0</td>\n",
       "    </tr>\n",
       "    <tr>\n",
       "      <th>14</th>\n",
       "      <td>14</td>\n",
       "      <td>1</td>\n",
       "      <td>1</td>\n",
       "      <td>Seaton, Karen</td>\n",
       "      <td>female</td>\n",
       "      <td>44.0</td>\n",
       "      <td>0</td>\n",
       "      <td>1</td>\n",
       "      <td>12425</td>\n",
       "      <td>28.40</td>\n",
       "      <td>D6945</td>\n",
       "      <td>C</td>\n",
       "      <td>28.0</td>\n",
       "    </tr>\n",
       "    <tr>\n",
       "      <th>17</th>\n",
       "      <td>17</td>\n",
       "      <td>0</td>\n",
       "      <td>1</td>\n",
       "      <td>Geiger, Maria</td>\n",
       "      <td>male</td>\n",
       "      <td>43.0</td>\n",
       "      <td>0</td>\n",
       "      <td>0</td>\n",
       "      <td>487299</td>\n",
       "      <td>29.84</td>\n",
       "      <td>NaN</td>\n",
       "      <td>S</td>\n",
       "      <td>30.0</td>\n",
       "    </tr>\n",
       "  </tbody>\n",
       "</table>\n",
       "</div>"
      ],
      "text/plain": [
       "   PassengerId  Survived  Pclass          Fullname     Sex   Age  SibSp  \\\n",
       "0            0         1       1  Oconnor, Frankie    male   NaN      2   \n",
       "8            8         0       1  Wardlaw, Michael    male  27.0      2   \n",
       "11          11         0       1  Telschow, Robert    male  60.0      0   \n",
       "14          14         1       1     Seaton, Karen  female  44.0      0   \n",
       "17          17         0       1     Geiger, Maria    male  43.0      0   \n",
       "\n",
       "    Parch  Ticket   Fare   Cabin Embarked  RoundedFare  \n",
       "0       0  209245  27.14  C12239        S         27.0  \n",
       "8       1  474849  73.02   A7253        S         73.0  \n",
       "11      0   19600  31.50   A9055        S         32.0  \n",
       "14      1   12425  28.40   D6945        C         28.0  \n",
       "17      0  487299  29.84     NaN        S         30.0  "
      ]
     },
     "execution_count": 31,
     "metadata": {},
     "output_type": "execute_result"
    }
   ],
   "source": [
    "df_pandas.loc[df_pandas['Pclass']==1].head()"
   ]
  },
  {
   "cell_type": "code",
   "execution_count": 32,
   "metadata": {
    "colab": {
     "base_uri": "https://localhost:8080/"
    },
    "executionInfo": {
     "elapsed": 382,
     "status": "ok",
     "timestamp": 1658732497256,
     "user": {
      "displayName": "krishnendu dey",
      "userId": "08038349177473993606"
     },
     "user_tz": -330
    },
    "id": "kbsytEhkvdm-",
    "outputId": "4168a301-41aa-4ff2-a571-18fc69ac8f3d"
   },
   "outputs": [
    {
     "name": "stdout",
     "output_type": "stream",
     "text": [
      "== Physical Plan ==\n",
      "*(1) Project [PassengerId#17, Survived#18, Pclass#19, Name#20 AS FullName#191, Sex#21, Age#22, SibSp#23, Parch#24, Ticket#25, Fare#26, Cabin#27, Embarked#28]\n",
      "+- *(1) Filter (isnotnull(Pclass#19) AND (Pclass#19 = 1))\n",
      "   +- FileScan csv [PassengerId#17,Survived#18,Pclass#19,Name#20,Sex#21,Age#22,SibSp#23,Parch#24,Ticket#25,Fare#26,Cabin#27,Embarked#28] Batched: false, DataFilters: [isnotnull(Pclass#19), (Pclass#19 = 1)], Format: CSV, Location: InMemoryFileIndex(1 paths)[file:/C:/Users/krish/OneDrive/Desktop/Study/Pyspark/data/Titanic.csv], PartitionFilters: [], PushedFilters: [IsNotNull(Pclass), EqualTo(Pclass,1)], ReadSchema: struct<PassengerId:int,Survived:int,Pclass:int,Name:string,Sex:string,Age:double,SibSp:int,Parch:...\n",
      "\n",
      "\n"
     ]
    }
   ],
   "source": [
    "# explain() : gives us the physical idea of how spark is going to transform the data and display it. Important for performance tuning & optimization\n",
    "df_pyspark.filter(\"Pclass=1\").explain()"
   ]
  },
  {
   "cell_type": "code",
   "execution_count": 33,
   "metadata": {
    "colab": {
     "base_uri": "https://localhost:8080/"
    },
    "executionInfo": {
     "elapsed": 1073,
     "status": "ok",
     "timestamp": 1658732537504,
     "user": {
      "displayName": "krishnendu dey",
      "userId": "08038349177473993606"
     },
     "user_tz": -330
    },
    "id": "6BP1DzGHvdm-",
    "outputId": "b1b272d1-1b5b-4dee-8281-25eea850b3a4",
    "scrolled": false
   },
   "outputs": [
    {
     "name": "stdout",
     "output_type": "stream",
     "text": [
      "+-----------+--------+------+----------------+------+----+-----+-----+------+-----+------+--------+\n",
      "|PassengerId|Survived|Pclass|        FullName|   Sex| Age|SibSp|Parch|Ticket| Fare| Cabin|Embarked|\n",
      "+-----------+--------+------+----------------+------+----+-----+-----+------+-----+------+--------+\n",
      "|          0|       1|     1|Oconnor, Frankie|  male|null|    2|    0|209245|27.14|C12239|       S|\n",
      "|          8|       0|     1|Wardlaw, Michael|  male|27.0|    2|    1|474849|73.02| A7253|       S|\n",
      "|         11|       0|     1|Telschow, Robert|  male|60.0|    0|    0| 19600| 31.5| A9055|       S|\n",
      "|         14|       1|     1|   Seaton, Karen|female|44.0|    0|    1| 12425| 28.4| D6945|       C|\n",
      "|         17|       0|     1|   Geiger, Maria|  male|43.0|    0|    0|487299|29.84|  null|       S|\n",
      "+-----------+--------+------+----------------+------+----+-----+-----+------+-----+------+--------+\n",
      "only showing top 5 rows\n",
      "\n"
     ]
    }
   ],
   "source": [
    "df_pyspark.filter(\"Pclass==1\").show(5)    # Using SQL Expression \"Pclass == 1\""
   ]
  },
  {
   "cell_type": "markdown",
   "metadata": {
    "id": "6X7DDcIRlK4Z"
   },
   "source": [
    "***Tip :*** use '&' for 'and', '|' for 'or', '~' for 'not' when building DataFrame boolean expressions"
   ]
  },
  {
   "cell_type": "code",
   "execution_count": 34,
   "metadata": {
    "colab": {
     "base_uri": "https://localhost:8080/",
     "height": 206
    },
    "executionInfo": {
     "elapsed": 413,
     "status": "ok",
     "timestamp": 1658732568882,
     "user": {
      "displayName": "krishnendu dey",
      "userId": "08038349177473993606"
     },
     "user_tz": -330
    },
    "id": "nLATJYtavdm-",
    "outputId": "ec077a24-3bb1-45c3-b184-14255a758815",
    "scrolled": true
   },
   "outputs": [
    {
     "data": {
      "text/html": [
       "<div>\n",
       "<style scoped>\n",
       "    .dataframe tbody tr th:only-of-type {\n",
       "        vertical-align: middle;\n",
       "    }\n",
       "\n",
       "    .dataframe tbody tr th {\n",
       "        vertical-align: top;\n",
       "    }\n",
       "\n",
       "    .dataframe thead th {\n",
       "        text-align: right;\n",
       "    }\n",
       "</style>\n",
       "<table border=\"1\" class=\"dataframe\">\n",
       "  <thead>\n",
       "    <tr style=\"text-align: right;\">\n",
       "      <th></th>\n",
       "      <th>Fullname</th>\n",
       "      <th>Pclass</th>\n",
       "      <th>Embarked</th>\n",
       "    </tr>\n",
       "  </thead>\n",
       "  <tbody>\n",
       "    <tr>\n",
       "      <th>0</th>\n",
       "      <td>Oconnor, Frankie</td>\n",
       "      <td>1</td>\n",
       "      <td>S</td>\n",
       "    </tr>\n",
       "    <tr>\n",
       "      <th>8</th>\n",
       "      <td>Wardlaw, Michael</td>\n",
       "      <td>1</td>\n",
       "      <td>S</td>\n",
       "    </tr>\n",
       "    <tr>\n",
       "      <th>11</th>\n",
       "      <td>Telschow, Robert</td>\n",
       "      <td>1</td>\n",
       "      <td>S</td>\n",
       "    </tr>\n",
       "    <tr>\n",
       "      <th>17</th>\n",
       "      <td>Geiger, Maria</td>\n",
       "      <td>1</td>\n",
       "      <td>S</td>\n",
       "    </tr>\n",
       "    <tr>\n",
       "      <th>21</th>\n",
       "      <td>Andrews, Tommie</td>\n",
       "      <td>1</td>\n",
       "      <td>S</td>\n",
       "    </tr>\n",
       "  </tbody>\n",
       "</table>\n",
       "</div>"
      ],
      "text/plain": [
       "            Fullname  Pclass Embarked\n",
       "0   Oconnor, Frankie       1        S\n",
       "8   Wardlaw, Michael       1        S\n",
       "11  Telschow, Robert       1        S\n",
       "17     Geiger, Maria       1        S\n",
       "21   Andrews, Tommie       1        S"
      ]
     },
     "execution_count": 34,
     "metadata": {},
     "output_type": "execute_result"
    }
   ],
   "source": [
    "df_pandas.loc[(df_pandas['Pclass']==1) & (df_pandas['Embarked']=='S')][['Fullname','Pclass','Embarked']].head()"
   ]
  },
  {
   "cell_type": "code",
   "execution_count": 35,
   "metadata": {
    "colab": {
     "base_uri": "https://localhost:8080/"
    },
    "executionInfo": {
     "elapsed": 389,
     "status": "ok",
     "timestamp": 1658732582572,
     "user": {
      "displayName": "krishnendu dey",
      "userId": "08038349177473993606"
     },
     "user_tz": -330
    },
    "id": "gd7OxKErvdm_",
    "outputId": "a53877e6-ba79-41b8-899d-5401433c30d2",
    "scrolled": false
   },
   "outputs": [
    {
     "name": "stdout",
     "output_type": "stream",
     "text": [
      "+----------------+------+--------+\n",
      "|        Fullname|Pclass|Embarked|\n",
      "+----------------+------+--------+\n",
      "|Oconnor, Frankie|     1|       S|\n",
      "|Wardlaw, Michael|     1|       S|\n",
      "|Telschow, Robert|     1|       S|\n",
      "|   Geiger, Maria|     1|       S|\n",
      "| Andrews, Tommie|     1|       S|\n",
      "+----------------+------+--------+\n",
      "only showing top 5 rows\n",
      "\n"
     ]
    }
   ],
   "source": [
    "df_pyspark.filter((df_pyspark['Pclass']==1) & (df_pyspark['Embarked']==\"S\")).select(['Fullname','Pclass','Embarked']).show(5)\n",
    "# Alternative query : df_pyspark.filter(\"pclass==1 and Embarked like 'S'\").select(['Fullname','Pclass','Embarked']).show(5)"
   ]
  },
  {
   "cell_type": "code",
   "execution_count": 36,
   "metadata": {
    "colab": {
     "base_uri": "https://localhost:8080/"
    },
    "executionInfo": {
     "elapsed": 392,
     "status": "ok",
     "timestamp": 1658732596911,
     "user": {
      "displayName": "krishnendu dey",
      "userId": "08038349177473993606"
     },
     "user_tz": -330
    },
    "id": "KYieS6hwvdm_",
    "outputId": "2ca7fdbf-4e9b-4287-dd49-b027454d91fd"
   },
   "outputs": [
    {
     "data": {
      "text/plain": [
       "55085    Steelman, Rose\n",
       "Name: Fullname, dtype: object"
      ]
     },
     "execution_count": 36,
     "metadata": {},
     "output_type": "execute_result"
    }
   ],
   "source": [
    "#Example 3.0\n",
    "df_pandas.loc[df_pandas.Age==df_pandas.Age.max()].Fullname"
   ]
  },
  {
   "cell_type": "code",
   "execution_count": 37,
   "metadata": {
    "colab": {
     "base_uri": "https://localhost:8080/"
    },
    "executionInfo": {
     "elapsed": 2156,
     "status": "ok",
     "timestamp": 1658733377145,
     "user": {
      "displayName": "krishnendu dey",
      "userId": "08038349177473993606"
     },
     "user_tz": -330
    },
    "id": "aWr32xnzvdm_",
    "outputId": "c1d23387-c668-45cc-e543-b91b39430c0e"
   },
   "outputs": [
    {
     "name": "stdout",
     "output_type": "stream",
     "text": [
      "+--------------+\n",
      "|      Fullname|\n",
      "+--------------+\n",
      "|Steelman, Rose|\n",
      "+--------------+\n",
      "\n"
     ]
    }
   ],
   "source": [
    "from pyspark.sql import functions as F\n",
    "df_pyspark.filter(df_pyspark['Age']==df_pyspark.groupBy().agg(F.max(\"Age\")).collect()[0][0]).select(\"Fullname\").show()"
   ]
  },
  {
   "cell_type": "code",
   "execution_count": 38,
   "metadata": {
    "colab": {
     "base_uri": "https://localhost:8080/"
    },
    "executionInfo": {
     "elapsed": 5,
     "status": "ok",
     "timestamp": 1658733611491,
     "user": {
      "displayName": "krishnendu dey",
      "userId": "08038349177473993606"
     },
     "user_tz": -330
    },
    "id": "4-xG37STNxzM",
    "outputId": "9de35f26-e343-4421-a86e-07f0cef069f2"
   },
   "outputs": [
    {
     "name": "stdout",
     "output_type": "stream",
     "text": [
      "36\n"
     ]
    }
   ],
   "source": [
    "X=\"akdsj\"\n",
    "square = lambda x : x*x if(x > 0) else None\n",
    " \n",
    "print(square(6))"
   ]
  },
  {
   "cell_type": "code",
   "execution_count": 39,
   "metadata": {
    "id": "TgRVwnHyvdnA",
    "outputId": "2d339e70-1476-45e3-9cbc-b58c56b299ab",
    "scrolled": false
   },
   "outputs": [
    {
     "name": "stdout",
     "output_type": "stream",
     "text": [
      "+-----------+--------+------+---------------+----+----+-----+-----+---------+-----+-----+--------+\n",
      "|PassengerId|Survived|Pclass|       FullName| Sex| Age|SibSp|Parch|   Ticket| Fare|Cabin|Embarked|\n",
      "+-----------+--------+------+---------------+----+----+-----+-----+---------+-----+-----+--------+\n",
      "|          2|       0|     3| Owens, Kenneth|male|0.33|    1|    2|CA 457703|71.29| null|       S|\n",
      "|         67|       0|     1|Stefani, Alfred|male|38.0|    1|    2| CA. 6654| 27.7|B4480|       S|\n",
      "+-----------+--------+------+---------------+----+----+-----+-----+---------+-----+-----+--------+\n",
      "only showing top 2 rows\n",
      "\n",
      "+-----------+--------+------+---------------+----+----+-----+-----+---------+-----+-----+--------+\n",
      "|PassengerId|Survived|Pclass|       FullName| Sex| Age|SibSp|Parch|   Ticket| Fare|Cabin|Embarked|\n",
      "+-----------+--------+------+---------------+----+----+-----+-----+---------+-----+-----+--------+\n",
      "|          2|       0|     3| Owens, Kenneth|male|0.33|    1|    2|CA 457703|71.29| null|       S|\n",
      "|         67|       0|     1|Stefani, Alfred|male|38.0|    1|    2| CA. 6654| 27.7|B4480|       S|\n",
      "+-----------+--------+------+---------------+----+----+-----+-----+---------+-----+-----+--------+\n",
      "only showing top 2 rows\n",
      "\n"
     ]
    }
   ],
   "source": [
    "#Example 4.0\n",
    "df_pyspark.filter(\"Ticket like 'CA%'\").show(2)\n",
    "df_pyspark.where(\"Ticket like 'CA%'\").show(2)"
   ]
  },
  {
   "cell_type": "code",
   "execution_count": 40,
   "metadata": {
    "id": "nekV552svdnA"
   },
   "outputs": [],
   "source": [
    "# df_pyspark.filter(col(\"Ticket\").startswith(\"CA\")).show(3)"
   ]
  },
  {
   "cell_type": "markdown",
   "metadata": {
    "id": "jmkCD5Qu2mmt"
   },
   "source": [
    "#### Rounding off"
   ]
  },
  {
   "cell_type": "code",
   "execution_count": 41,
   "metadata": {
    "colab": {
     "base_uri": "https://localhost:8080/"
    },
    "executionInfo": {
     "elapsed": 1447,
     "status": "ok",
     "timestamp": 1658761833542,
     "user": {
      "displayName": "krishnendu dey",
      "userId": "08038349177473993606"
     },
     "user_tz": -330
    },
    "id": "7c7G7Y5m2tAF",
    "outputId": "b9c4550c-937d-4592-80b9-85a484c07215"
   },
   "outputs": [
    {
     "name": "stdout",
     "output_type": "stream",
     "text": [
      "+-----------------+\n",
      "|           stddev|\n",
      "+-----------------+\n",
      "|69.58882046663861|\n",
      "+-----------------+\n",
      "\n",
      "+------------------------+\n",
      "|format_number(stddev, 2)|\n",
      "+------------------------+\n",
      "|                   69.59|\n",
      "+------------------------+\n",
      "\n"
     ]
    }
   ],
   "source": [
    "from pyspark.sql.functions import format_number\n",
    "from pyspark.sql.functions import stddev\n",
    "Fare_std=df_pyspark.select(stddev('Fare').alias('stddev'))\n",
    "Fare_std.show()\n",
    "Fare_std.select(format_number('stddev',2)).alias('rounded_stddev').show()"
   ]
  },
  {
   "cell_type": "markdown",
   "metadata": {
    "id": "ISAuP_3xvdnA"
   },
   "source": [
    "#### Aggregate"
   ]
  },
  {
   "cell_type": "code",
   "execution_count": 42,
   "metadata": {
    "colab": {
     "base_uri": "https://localhost:8080/"
    },
    "executionInfo": {
     "elapsed": 5,
     "status": "ok",
     "timestamp": 1658734285815,
     "user": {
      "displayName": "krishnendu dey",
      "userId": "08038349177473993606"
     },
     "user_tz": -330
    },
    "id": "jtNWU0-ZvdnB",
    "outputId": "8fe7cd4b-6ddd-44f0-f2ab-329195807fd2"
   },
   "outputs": [
    {
     "data": {
      "text/plain": [
       "Fare    744.66\n",
       "dtype: float64"
      ]
     },
     "execution_count": 42,
     "metadata": {},
     "output_type": "execute_result"
    }
   ],
   "source": [
    "df_pandas.agg({'Fare':'max'})"
   ]
  },
  {
   "cell_type": "code",
   "execution_count": 43,
   "metadata": {
    "colab": {
     "base_uri": "https://localhost:8080/"
    },
    "executionInfo": {
     "elapsed": 2,
     "status": "ok",
     "timestamp": 1658734287516,
     "user": {
      "displayName": "krishnendu dey",
      "userId": "08038349177473993606"
     },
     "user_tz": -330
    },
    "id": "BWac1oLavdnB",
    "outputId": "eb959588-098f-41fc-b91b-d91f494a088d"
   },
   "outputs": [
    {
     "name": "stdout",
     "output_type": "stream",
     "text": [
      "+-----------------+\n",
      "|        avg(Fare)|\n",
      "+-----------------+\n",
      "|43.92933040273972|\n",
      "+-----------------+\n",
      "\n"
     ]
    }
   ],
   "source": [
    "df_pyspark.agg({'Fare':'avg'}).show()"
   ]
  },
  {
   "cell_type": "code",
   "execution_count": 44,
   "metadata": {
    "colab": {
     "base_uri": "https://localhost:8080/",
     "height": 81
    },
    "executionInfo": {
     "elapsed": 9,
     "status": "ok",
     "timestamp": 1658734291678,
     "user": {
      "displayName": "krishnendu dey",
      "userId": "08038349177473993606"
     },
     "user_tz": -330
    },
    "id": "VqgDW6TLvdnB",
    "outputId": "062ef87b-8790-424c-dba6-8dac3128fc8c",
    "scrolled": true
   },
   "outputs": [
    {
     "data": {
      "text/html": [
       "<div>\n",
       "<style scoped>\n",
       "    .dataframe tbody tr th:only-of-type {\n",
       "        vertical-align: middle;\n",
       "    }\n",
       "\n",
       "    .dataframe tbody tr th {\n",
       "        vertical-align: top;\n",
       "    }\n",
       "\n",
       "    .dataframe thead th {\n",
       "        text-align: right;\n",
       "    }\n",
       "</style>\n",
       "<table border=\"1\" class=\"dataframe\">\n",
       "  <thead>\n",
       "    <tr style=\"text-align: right;\">\n",
       "      <th></th>\n",
       "      <th>mean</th>\n",
       "      <th>max</th>\n",
       "      <th>min</th>\n",
       "    </tr>\n",
       "  </thead>\n",
       "  <tbody>\n",
       "    <tr>\n",
       "      <th>Fare</th>\n",
       "      <td>43.92933</td>\n",
       "      <td>744.66</td>\n",
       "      <td>0.68</td>\n",
       "    </tr>\n",
       "  </tbody>\n",
       "</table>\n",
       "</div>"
      ],
      "text/plain": [
       "          mean     max   min\n",
       "Fare  43.92933  744.66  0.68"
      ]
     },
     "execution_count": 44,
     "metadata": {},
     "output_type": "execute_result"
    }
   ],
   "source": [
    "df_pandas.agg({'Fare':['mean','max','min']}).T"
   ]
  },
  {
   "cell_type": "code",
   "execution_count": 45,
   "metadata": {
    "colab": {
     "base_uri": "https://localhost:8080/"
    },
    "executionInfo": {
     "elapsed": 2181,
     "status": "ok",
     "timestamp": 1658734313577,
     "user": {
      "displayName": "krishnendu dey",
      "userId": "08038349177473993606"
     },
     "user_tz": -330
    },
    "id": "no1hgkCFvdnB",
    "outputId": "b15229a1-67a7-45b9-aa0f-75807f642bc4"
   },
   "outputs": [
    {
     "name": "stdout",
     "output_type": "stream",
     "text": [
      "+-----------------+------+----+\n",
      "|             Mean|   Max| Min|\n",
      "+-----------------+------+----+\n",
      "|43.92933040273972|744.66|0.68|\n",
      "+-----------------+------+----+\n",
      "\n"
     ]
    }
   ],
   "source": [
    "from pyspark.sql import functions as F\n",
    "df_pyspark.groupBy().agg(F.mean('Fare').alias('Mean'),F.max('Fare').alias('Max'), F.min('Fare').alias('Min')).show()\n",
    "\n",
    "# Note :\n",
    "# df_pyspark.agg({'Fare':['avg','max','min']}).show() : Syntactically not supported in spark \n",
    "# df_pyspark.agg({'Fare':'avg','Fare':'max','Fare':'min'}).show() : Prints only min Fare due to method overriding"
   ]
  },
  {
   "cell_type": "code",
   "execution_count": 46,
   "metadata": {
    "colab": {
     "base_uri": "https://localhost:8080/"
    },
    "executionInfo": {
     "elapsed": 1509,
     "status": "ok",
     "timestamp": 1658734070398,
     "user": {
      "displayName": "krishnendu dey",
      "userId": "08038349177473993606"
     },
     "user_tz": -330
    },
    "id": "QX832KykvdnC",
    "outputId": "ed153b85-be8e-42f4-a6b1-51e329e8ad50"
   },
   "outputs": [
    {
     "name": "stdout",
     "output_type": "stream",
     "text": [
      "Average Fare in Pandas DataFrame:  43.92933040273962\n",
      "Average Fare in Pyspark DataFrame:  43.92933040273972\n"
     ]
    }
   ],
   "source": [
    "# Average Fare \n",
    "print(\"Average Fare in Pandas DataFrame: \", df_pandas.Fare.mean())\n",
    "print(\"Average Fare in Pyspark DataFrame: \", df_pyspark.groupBy().avg().collect()[0][6])"
   ]
  },
  {
   "cell_type": "code",
   "execution_count": 47,
   "metadata": {
    "colab": {
     "base_uri": "https://localhost:8080/"
    },
    "executionInfo": {
     "elapsed": 1028,
     "status": "ok",
     "timestamp": 1658734093279,
     "user": {
      "displayName": "krishnendu dey",
      "userId": "08038349177473993606"
     },
     "user_tz": -330
    },
    "id": "OPDc7iwNvdnC",
    "outputId": "e9718d00-73e7-48f9-de84-329b19a8a407"
   },
   "outputs": [
    {
     "name": "stdout",
     "output_type": "stream",
     "text": [
      "Max Fare in Pandas DataFrame:  744.66\n",
      "Max Fare in Pyspark DataFrame:  744.66\n"
     ]
    }
   ],
   "source": [
    "# Max Fare \n",
    "print(\"Max Fare in Pandas DataFrame: \", df_pandas.Fare.max())\n",
    "print(\"Max Fare in Pyspark DataFrame: \", df_pyspark.groupBy().max().collect()[0][6])"
   ]
  },
  {
   "cell_type": "code",
   "execution_count": 48,
   "metadata": {
    "colab": {
     "base_uri": "https://localhost:8080/"
    },
    "executionInfo": {
     "elapsed": 1311,
     "status": "ok",
     "timestamp": 1658734098309,
     "user": {
      "displayName": "krishnendu dey",
      "userId": "08038349177473993606"
     },
     "user_tz": -330
    },
    "id": "PU5wvV9avdnD",
    "outputId": "bd9e85f5-a640-48b4-9d97-58ed27250fae"
   },
   "outputs": [
    {
     "name": "stdout",
     "output_type": "stream",
     "text": [
      "Min Fare in Pandas DataFrame:  0.68\n",
      "Min Fare in Pyspark DataFrame:  0.68\n"
     ]
    }
   ],
   "source": [
    "# Min Fare \n",
    "print(\"Min Fare in Pandas DataFrame: \", df_pandas.Fare.min())\n",
    "print(\"Min Fare in Pyspark DataFrame: \", df_pyspark.groupBy().min().collect()[0][6])"
   ]
  },
  {
   "cell_type": "markdown",
   "metadata": {
    "id": "X_pEEO61vdnD"
   },
   "source": [
    "#### groupby & aggregate"
   ]
  },
  {
   "cell_type": "code",
   "execution_count": 49,
   "metadata": {
    "colab": {
     "base_uri": "https://localhost:8080/"
    },
    "executionInfo": {
     "elapsed": 421,
     "status": "ok",
     "timestamp": 1658734326644,
     "user": {
      "displayName": "krishnendu dey",
      "userId": "08038349177473993606"
     },
     "user_tz": -330
    },
    "id": "I_JyiHcovdnD",
    "outputId": "b85e95d0-fb46-4f39-ad1a-bd59a19c6c65",
    "scrolled": true
   },
   "outputs": [
    {
     "data": {
      "text/plain": [
       "Sex\n",
       "female    40.044890\n",
       "male      37.030884\n",
       "Name: Age, dtype: float64"
      ]
     },
     "execution_count": 49,
     "metadata": {},
     "output_type": "execute_result"
    }
   ],
   "source": [
    "df_pandas.groupby('Sex').mean().Age"
   ]
  },
  {
   "cell_type": "code",
   "execution_count": 50,
   "metadata": {
    "colab": {
     "base_uri": "https://localhost:8080/"
    },
    "executionInfo": {
     "elapsed": 1300,
     "status": "ok",
     "timestamp": 1658760368045,
     "user": {
      "displayName": "krishnendu dey",
      "userId": "08038349177473993606"
     },
     "user_tz": -330
    },
    "id": "Ws_0IzVXvdnD",
    "outputId": "0e4063c5-b5ce-48c9-a43c-71ea91f37dd4",
    "scrolled": true
   },
   "outputs": [
    {
     "name": "stdout",
     "output_type": "stream",
     "text": [
      "+------+-----------------+\n",
      "|   Sex|         avg(Age)|\n",
      "+------+-----------------+\n",
      "|female|40.04489023787676|\n",
      "|  male|37.03088383419117|\n",
      "+------+-----------------+\n",
      "\n"
     ]
    }
   ],
   "source": [
    "df_pyspark.groupby('Sex').avg('Age').show()"
   ]
  },
  {
   "cell_type": "markdown",
   "metadata": {
    "id": "UzX3ULipvdnE"
   },
   "source": [
    "#### Crosstab"
   ]
  },
  {
   "cell_type": "code",
   "execution_count": 51,
   "metadata": {
    "colab": {
     "base_uri": "https://localhost:8080/",
     "height": 143
    },
    "executionInfo": {
     "elapsed": 444,
     "status": "ok",
     "timestamp": 1658736540257,
     "user": {
      "displayName": "krishnendu dey",
      "userId": "08038349177473993606"
     },
     "user_tz": -330
    },
    "id": "DtJoDhTzvdnE",
    "outputId": "0baa5a33-15fd-4fbb-a44f-7559ebfd8a5f"
   },
   "outputs": [
    {
     "data": {
      "text/html": [
       "<div>\n",
       "<style scoped>\n",
       "    .dataframe tbody tr th:only-of-type {\n",
       "        vertical-align: middle;\n",
       "    }\n",
       "\n",
       "    .dataframe tbody tr th {\n",
       "        vertical-align: top;\n",
       "    }\n",
       "\n",
       "    .dataframe thead th {\n",
       "        text-align: right;\n",
       "    }\n",
       "</style>\n",
       "<table border=\"1\" class=\"dataframe\">\n",
       "  <thead>\n",
       "    <tr style=\"text-align: right;\">\n",
       "      <th>col_0</th>\n",
       "      <th>Survived</th>\n",
       "    </tr>\n",
       "    <tr>\n",
       "      <th>Sex</th>\n",
       "      <th></th>\n",
       "    </tr>\n",
       "  </thead>\n",
       "  <tbody>\n",
       "    <tr>\n",
       "      <th>female</th>\n",
       "      <td>43886</td>\n",
       "    </tr>\n",
       "    <tr>\n",
       "      <th>male</th>\n",
       "      <td>56114</td>\n",
       "    </tr>\n",
       "  </tbody>\n",
       "</table>\n",
       "</div>"
      ],
      "text/plain": [
       "col_0   Survived\n",
       "Sex             \n",
       "female     43886\n",
       "male       56114"
      ]
     },
     "execution_count": 51,
     "metadata": {},
     "output_type": "execute_result"
    }
   ],
   "source": [
    "pd.crosstab(index=df_pandas.Sex,columns=\"Survived\")"
   ]
  },
  {
   "cell_type": "code",
   "execution_count": 52,
   "metadata": {
    "colab": {
     "base_uri": "https://localhost:8080/"
    },
    "executionInfo": {
     "elapsed": 2235,
     "status": "ok",
     "timestamp": 1658736547875,
     "user": {
      "displayName": "krishnendu dey",
      "userId": "08038349177473993606"
     },
     "user_tz": -330
    },
    "id": "leDdDuD_vdnE",
    "outputId": "46e4e46f-2f8d-45f8-a55e-afd7d1460809"
   },
   "outputs": [
    {
     "name": "stdout",
     "output_type": "stream",
     "text": [
      "+------------+-----+-----+\n",
      "|Sex_Survived|    0|    1|\n",
      "+------------+-----+-----+\n",
      "|        male|44566|11548|\n",
      "|      female|12660|31226|\n",
      "+------------+-----+-----+\n",
      "\n"
     ]
    }
   ],
   "source": [
    "df_pyspark.crosstab('Sex','Survived').show()"
   ]
  },
  {
   "cell_type": "markdown",
   "metadata": {
    "id": "1OtiHcPDvdnE"
   },
   "source": [
    "#### Checking Null Values "
   ]
  },
  {
   "cell_type": "code",
   "execution_count": 53,
   "metadata": {
    "id": "mrexEjE2vdnF",
    "outputId": "a00d425e-b265-42b8-ea86-83ecc862fc90"
   },
   "outputs": [
    {
     "data": {
      "text/plain": [
       "3292"
      ]
     },
     "execution_count": 53,
     "metadata": {},
     "output_type": "execute_result"
    }
   ],
   "source": [
    "# Checking number of Nullvalues in Age column\n",
    "df_pandas['Age'].isnull().sum()"
   ]
  },
  {
   "cell_type": "code",
   "execution_count": 54,
   "metadata": {
    "id": "oMQVYMV8vdnF",
    "outputId": "4dc53caf-fa83-4af3-f288-838c82acc14a"
   },
   "outputs": [
    {
     "name": "stdout",
     "output_type": "stream",
     "text": [
      "3292\n",
      "3292\n"
     ]
    }
   ],
   "source": [
    "#Using Pyspark SQL statements \n",
    "print(df_pyspark.filter(\"Age is  null\").count())                # Alternative : df_pyspark.where(\"Age is null\").count()\n",
    "\n",
    "# Checking using column\n",
    "print(df_pyspark.filter(df_pyspark['Age'].isNull()).count())    # Alternative : df.where(df.Value.isNotNull()).show()"
   ]
  },
  {
   "cell_type": "code",
   "execution_count": 55,
   "metadata": {
    "id": "GJ-pc__lvdnF",
    "outputId": "10677332-5591-418f-b71a-29a7063a67ae"
   },
   "outputs": [
    {
     "data": {
      "text/plain": [
       "PassengerId        0\n",
       "Survived           0\n",
       "Pclass             0\n",
       "Fullname           0\n",
       "Sex                0\n",
       "Age             3292\n",
       "SibSp              0\n",
       "Parch              0\n",
       "Ticket          4623\n",
       "Fare             134\n",
       "Cabin          67866\n",
       "Embarked         250\n",
       "RoundedFare      134\n",
       "dtype: int64"
      ]
     },
     "execution_count": 55,
     "metadata": {},
     "output_type": "execute_result"
    }
   ],
   "source": [
    "df_pandas.isnull().sum()"
   ]
  },
  {
   "cell_type": "code",
   "execution_count": 56,
   "metadata": {
    "id": "wLxD2FDRvdnF",
    "outputId": "3087d7c7-41f0-43a7-fbf6-4b4e3b109a9f"
   },
   "outputs": [
    {
     "name": "stdout",
     "output_type": "stream",
     "text": [
      "Null values in 'PassengerId' column = 0\n",
      "Null values in 'Survived' column = 0\n",
      "Null values in 'Pclass' column = 0\n",
      "Null values in 'FullName' column = 0\n",
      "Null values in 'Sex' column = 0\n",
      "Null values in 'Age' column = 3292\n",
      "Null values in 'SibSp' column = 0\n",
      "Null values in 'Parch' column = 0\n",
      "Null values in 'Ticket' column = 4623\n",
      "Null values in 'Fare' column = 134\n",
      "Null values in 'Cabin' column = 67866\n",
      "Null values in 'Embarked' column = 250\n"
     ]
    }
   ],
   "source": [
    "# Pyspark 'DataFrame' object has no attribute 'isNull'\n",
    "for i in df_pyspark.columns:\n",
    "    print(\"Null values in '{}' column = {}\".format(i,df_pyspark.filter(df_pyspark[i].isNull()).count()) )"
   ]
  },
  {
   "cell_type": "markdown",
   "metadata": {
    "id": "XpadBceHuvRP"
   },
   "source": [
    "#### Dropping/Filling missing values"
   ]
  },
  {
   "cell_type": "code",
   "execution_count": null,
   "metadata": {
    "id": "cFAfAQuXs6Pj"
   },
   "outputs": [],
   "source": [
    "## Drop any row containing atleast 1 missing value \n",
    "\n",
    "# df_pandas.dropna(axis=0,inplace=True)\n",
    "# df_pyspark.na.drop().show()"
   ]
  },
  {
   "cell_type": "code",
   "execution_count": null,
   "metadata": {
    "id": "POVCxltzuIyC"
   },
   "outputs": [],
   "source": [
    "## Drop any row containing atleast 2 missing value \n",
    "\n",
    "# df_pandas.dropna(axis=0,thresh=2,inplace=True)\n",
    "# df_pyspark.na.drop(thresh=2).show()"
   ]
  },
  {
   "cell_type": "code",
   "execution_count": null,
   "metadata": {
    "id": "gFS_1wIjuzbr"
   },
   "outputs": [],
   "source": [
    "## Filling every missing value in the dataframe with \"New Value\"\n",
    "# df_pandas.fillna(\"New Value\",inplace=True)\n",
    "# df_pyspark.na.fill('NEW VALUE').show()  \n"
   ]
  },
  {
   "cell_type": "markdown",
   "metadata": {
    "id": "587kgnV-vzf5"
   },
   "source": [
    "Here spark will only impute the string dtypes with \"New Value\" and remaining null value of other datatypes will still be NaN as the dtype of imputation does not match.But here pandas does not care if the datatype used for the imputation matches with the datatypes of the column or not."
   ]
  },
  {
   "cell_type": "code",
   "execution_count": null,
   "metadata": {
    "id": "Auz2xRjrwh-v"
   },
   "outputs": [],
   "source": [
    "## Filling null values in a specific column\n",
    "\n",
    "# df_pandas.Age.fillna(0)                        # Returns only the Age series\n",
    "# df_pyspark.na.fill(0,subset=['Age']).show()    # Returns the whole dataframe "
   ]
  },
  {
   "cell_type": "code",
   "execution_count": null,
   "metadata": {
    "id": "g-jwhutBxbjU"
   },
   "outputs": [],
   "source": [
    "## Imputing missing values with mean of the data\n",
    "\n",
    "# df_pandas.Fare.fillna(df.Fare.mean())\n",
    "\n",
    "# from pyspark.sql.functions import mean\n",
    "# mean_val=df_pyspark.select(mean(df_pyspark['Fare'])).collect()[0][0]\n",
    "# df_pyspark.na.fill(mean_val,[\"Fare\"]).show()\n"
   ]
  },
  {
   "cell_type": "code",
   "execution_count": null,
   "metadata": {
    "id": "GrjgqDKJxbgS"
   },
   "outputs": [],
   "source": []
  },
  {
   "cell_type": "markdown",
   "metadata": {
    "id": "Du-Sj-QVvdnG"
   },
   "source": [
    "#### Checking Unique/Distinct Values for columns"
   ]
  },
  {
   "cell_type": "code",
   "execution_count": 57,
   "metadata": {
    "colab": {
     "base_uri": "https://localhost:8080/"
    },
    "executionInfo": {
     "elapsed": 420,
     "status": "ok",
     "timestamp": 1658736587823,
     "user": {
      "displayName": "krishnendu dey",
      "userId": "08038349177473993606"
     },
     "user_tz": -330
    },
    "id": "eh6_-CKxvdnG",
    "outputId": "fd803696-4410-481a-c097-985d096505ac"
   },
   "outputs": [
    {
     "name": "stdout",
     "output_type": "stream",
     "text": [
      "Number of Unique values for Sex column :  2\n",
      "<class 'numpy.ndarray'>\n"
     ]
    },
    {
     "data": {
      "text/plain": [
       "array(['male', 'female'], dtype=object)"
      ]
     },
     "execution_count": 57,
     "metadata": {},
     "output_type": "execute_result"
    }
   ],
   "source": [
    "print(\"Number of Unique values for Sex column : \",df_pandas['Sex'].nunique())\n",
    "print(type(df_pandas['Sex'].unique()))\n",
    "df_pandas['Sex'].unique()\n"
   ]
  },
  {
   "cell_type": "code",
   "execution_count": 58,
   "metadata": {
    "colab": {
     "base_uri": "https://localhost:8080/"
    },
    "executionInfo": {
     "elapsed": 1489,
     "status": "ok",
     "timestamp": 1658760747320,
     "user": {
      "displayName": "krishnendu dey",
      "userId": "08038349177473993606"
     },
     "user_tz": -330
    },
    "id": "GlGrrZjMvdnG",
    "outputId": "b6525406-5480-459c-f053-3e91d0bde1d7"
   },
   "outputs": [
    {
     "name": "stdout",
     "output_type": "stream",
     "text": [
      "Number of Unique values for Sex column :  2\n",
      "<class 'list'>\n",
      "+------+\n",
      "|   Sex|\n",
      "+------+\n",
      "|female|\n",
      "|  male|\n",
      "+------+\n",
      "\n"
     ]
    }
   ],
   "source": [
    "print(\"Number of Unique values for Sex column : \",df_pyspark.select('Sex').distinct().count())\n",
    "print(type(df_pyspark.select('Sex').distinct().dtypes))\n",
    "df_pyspark.select('Sex').distinct().show()"
   ]
  },
  {
   "cell_type": "code",
   "execution_count": 59,
   "metadata": {
    "colab": {
     "base_uri": "https://localhost:8080/"
    },
    "executionInfo": {
     "elapsed": 1028,
     "status": "ok",
     "timestamp": 1658760827634,
     "user": {
      "displayName": "krishnendu dey",
      "userId": "08038349177473993606"
     },
     "user_tz": -330
    },
    "id": "JNx-agng1Pg6",
    "outputId": "b797177b-9a5e-4855-8c9b-e6e74a99d3e4"
   },
   "outputs": [
    {
     "name": "stdout",
     "output_type": "stream",
     "text": [
      "+--------------+\n",
      "|unique_genders|\n",
      "+--------------+\n",
      "|             2|\n",
      "+--------------+\n",
      "\n",
      "<class 'pyspark.sql.dataframe.DataFrame'>\n"
     ]
    }
   ],
   "source": [
    "## Alternate query : Using pyspark.sql.functions\n",
    "from pyspark.sql.functions import countDistinct\n",
    "df_pyspark.select(countDistinct(\"Sex\").alias(\"unique_genders\")).show()\n",
    "print(type(df_pyspark.select(countDistinct(\"Sex\"))))"
   ]
  },
  {
   "cell_type": "markdown",
   "metadata": {
    "id": "464XqFHsvdnG"
   },
   "source": [
    "#### value_count() operation "
   ]
  },
  {
   "cell_type": "code",
   "execution_count": 60,
   "metadata": {
    "colab": {
     "base_uri": "https://localhost:8080/"
    },
    "executionInfo": {
     "elapsed": 433,
     "status": "ok",
     "timestamp": 1658736667410,
     "user": {
      "displayName": "krishnendu dey",
      "userId": "08038349177473993606"
     },
     "user_tz": -330
    },
    "id": "zb4PURd4vdnH",
    "outputId": "b7bd49eb-cd81-4c07-9729-170a8ac8ce35"
   },
   "outputs": [
    {
     "data": {
      "text/plain": [
       "3    41006\n",
       "1    30315\n",
       "2    28679\n",
       "Name: Pclass, dtype: int64"
      ]
     },
     "execution_count": 60,
     "metadata": {},
     "output_type": "execute_result"
    }
   ],
   "source": [
    "df_pandas['Pclass'].value_counts()"
   ]
  },
  {
   "cell_type": "code",
   "execution_count": 61,
   "metadata": {
    "colab": {
     "base_uri": "https://localhost:8080/"
    },
    "executionInfo": {
     "elapsed": 1139,
     "status": "ok",
     "timestamp": 1658736670528,
     "user": {
      "displayName": "krishnendu dey",
      "userId": "08038349177473993606"
     },
     "user_tz": -330
    },
    "id": "QEPIHYDmvdnH",
    "outputId": "4c97444f-b4e7-4ace-b2b0-344d8656d873",
    "scrolled": false
   },
   "outputs": [
    {
     "name": "stdout",
     "output_type": "stream",
     "text": [
      "+------+-----+\n",
      "|Pclass|count|\n",
      "+------+-----+\n",
      "|     3|41006|\n",
      "|     2|28679|\n",
      "|     1|30315|\n",
      "+------+-----+\n",
      "\n"
     ]
    }
   ],
   "source": [
    "# Like in pandas value_counts function is not available so we need to grouby and aggregate to have the same operation\n",
    "df_pyspark.groupby('Pclass').count().orderBy(col('Pclass').desc()).show()"
   ]
  },
  {
   "cell_type": "markdown",
   "metadata": {
    "id": "CyrbqtPxvdnH"
   },
   "source": [
    "#### Sorting"
   ]
  },
  {
   "cell_type": "code",
   "execution_count": 62,
   "metadata": {
    "colab": {
     "base_uri": "https://localhost:8080/",
     "height": 143
    },
    "executionInfo": {
     "elapsed": 467,
     "status": "ok",
     "timestamp": 1658736910996,
     "user": {
      "displayName": "krishnendu dey",
      "userId": "08038349177473993606"
     },
     "user_tz": -330
    },
    "id": "gEF7v0LLvdnI",
    "outputId": "fe36e767-a317-4c98-a6a2-2dcf6aba39f1"
   },
   "outputs": [
    {
     "data": {
      "text/html": [
       "<div>\n",
       "<style scoped>\n",
       "    .dataframe tbody tr th:only-of-type {\n",
       "        vertical-align: middle;\n",
       "    }\n",
       "\n",
       "    .dataframe tbody tr th {\n",
       "        vertical-align: top;\n",
       "    }\n",
       "\n",
       "    .dataframe thead th {\n",
       "        text-align: right;\n",
       "    }\n",
       "</style>\n",
       "<table border=\"1\" class=\"dataframe\">\n",
       "  <thead>\n",
       "    <tr style=\"text-align: right;\">\n",
       "      <th></th>\n",
       "      <th>PassengerId</th>\n",
       "      <th>Survived</th>\n",
       "      <th>Pclass</th>\n",
       "      <th>Fullname</th>\n",
       "      <th>Sex</th>\n",
       "      <th>Age</th>\n",
       "      <th>SibSp</th>\n",
       "      <th>Parch</th>\n",
       "      <th>Ticket</th>\n",
       "      <th>Fare</th>\n",
       "      <th>Cabin</th>\n",
       "      <th>Embarked</th>\n",
       "      <th>RoundedFare</th>\n",
       "    </tr>\n",
       "  </thead>\n",
       "  <tbody>\n",
       "    <tr>\n",
       "      <th>55085</th>\n",
       "      <td>55085</td>\n",
       "      <td>1</td>\n",
       "      <td>2</td>\n",
       "      <td>Steelman, Rose</td>\n",
       "      <td>female</td>\n",
       "      <td>87.0</td>\n",
       "      <td>0</td>\n",
       "      <td>2</td>\n",
       "      <td>27657</td>\n",
       "      <td>35.80</td>\n",
       "      <td>NaN</td>\n",
       "      <td>C</td>\n",
       "      <td>36.0</td>\n",
       "    </tr>\n",
       "    <tr>\n",
       "      <th>61780</th>\n",
       "      <td>61780</td>\n",
       "      <td>1</td>\n",
       "      <td>2</td>\n",
       "      <td>Williams, Chelsea</td>\n",
       "      <td>female</td>\n",
       "      <td>86.0</td>\n",
       "      <td>0</td>\n",
       "      <td>0</td>\n",
       "      <td>14693</td>\n",
       "      <td>37.59</td>\n",
       "      <td>NaN</td>\n",
       "      <td>C</td>\n",
       "      <td>38.0</td>\n",
       "    </tr>\n",
       "    <tr>\n",
       "      <th>66300</th>\n",
       "      <td>66300</td>\n",
       "      <td>1</td>\n",
       "      <td>2</td>\n",
       "      <td>Fulmer, Jean</td>\n",
       "      <td>female</td>\n",
       "      <td>86.0</td>\n",
       "      <td>0</td>\n",
       "      <td>0</td>\n",
       "      <td>424031</td>\n",
       "      <td>7.05</td>\n",
       "      <td>NaN</td>\n",
       "      <td>C</td>\n",
       "      <td>7.0</td>\n",
       "    </tr>\n",
       "  </tbody>\n",
       "</table>\n",
       "</div>"
      ],
      "text/plain": [
       "      PassengerId  Survived  Pclass           Fullname     Sex   Age  SibSp  \\\n",
       "55085       55085         1       2     Steelman, Rose  female  87.0      0   \n",
       "61780       61780         1       2  Williams, Chelsea  female  86.0      0   \n",
       "66300       66300         1       2       Fulmer, Jean  female  86.0      0   \n",
       "\n",
       "       Parch  Ticket   Fare Cabin Embarked  RoundedFare  \n",
       "55085      2   27657  35.80   NaN        C         36.0  \n",
       "61780      0   14693  37.59   NaN        C         38.0  \n",
       "66300      0  424031   7.05   NaN        C          7.0  "
      ]
     },
     "execution_count": 62,
     "metadata": {},
     "output_type": "execute_result"
    }
   ],
   "source": [
    "df_pandas.sort_values(by=['Age'],ascending=False).head(3)"
   ]
  },
  {
   "cell_type": "code",
   "execution_count": 63,
   "metadata": {
    "colab": {
     "base_uri": "https://localhost:8080/"
    },
    "executionInfo": {
     "elapsed": 1259,
     "status": "ok",
     "timestamp": 1658736924077,
     "user": {
      "displayName": "krishnendu dey",
      "userId": "08038349177473993606"
     },
     "user_tz": -330
    },
    "id": "zerPO6c5vdnI",
    "outputId": "f9a2c6c0-87d5-4a7b-a570-15c46d4515de",
    "scrolled": true
   },
   "outputs": [
    {
     "name": "stdout",
     "output_type": "stream",
     "text": [
      "+-----------+--------+------+-----------------+------+----+-----+-----+------+-----+-----+--------+\n",
      "|PassengerId|Survived|Pclass|         FullName|   Sex| Age|SibSp|Parch|Ticket| Fare|Cabin|Embarked|\n",
      "+-----------+--------+------+-----------------+------+----+-----+-----+------+-----+-----+--------+\n",
      "|      55085|       1|     2|   Steelman, Rose|female|87.0|    0|    2| 27657| 35.8| null|       C|\n",
      "|      66300|       1|     2|     Fulmer, Jean|female|86.0|    0|    0|424031| 7.05| null|       C|\n",
      "|      61780|       1|     2|Williams, Chelsea|female|86.0|    0|    0| 14693|37.59| null|       C|\n",
      "+-----------+--------+------+-----------------+------+----+-----+-----+------+-----+-----+--------+\n",
      "only showing top 3 rows\n",
      "\n"
     ]
    }
   ],
   "source": [
    "df_pyspark.orderBy(df_pyspark['Age'].desc()).show(3)\n",
    "\n",
    "# Alternative Query : df_pyspark.sort(col('Age'),ascending=False).show(3)"
   ]
  },
  {
   "cell_type": "markdown",
   "metadata": {
    "id": "GoxpTsz-vdnI"
   },
   "source": [
    "#### map function "
   ]
  },
  {
   "cell_type": "markdown",
   "metadata": {
    "id": "kRct5cJPvdnI"
   },
   "source": [
    "Replace the Bad characters(Characters apart from Numerice Characters)"
   ]
  },
  {
   "cell_type": "code",
   "execution_count": 69,
   "metadata": {
    "colab": {
     "base_uri": "https://localhost:8080/",
     "height": 206
    },
    "executionInfo": {
     "elapsed": 425,
     "status": "ok",
     "timestamp": 1658736989039,
     "user": {
      "displayName": "krishnendu dey",
      "userId": "08038349177473993606"
     },
     "user_tz": -330
    },
    "id": "4qqjaqkuvdnJ",
    "outputId": "96220187-f750-4526-c1b7-5d49e64b92ee"
   },
   "outputs": [
    {
     "data": {
      "text/html": [
       "<div>\n",
       "<style scoped>\n",
       "    .dataframe tbody tr th:only-of-type {\n",
       "        vertical-align: middle;\n",
       "    }\n",
       "\n",
       "    .dataframe tbody tr th {\n",
       "        vertical-align: top;\n",
       "    }\n",
       "\n",
       "    .dataframe thead th {\n",
       "        text-align: right;\n",
       "    }\n",
       "</style>\n",
       "<table border=\"1\" class=\"dataframe\">\n",
       "  <thead>\n",
       "    <tr style=\"text-align: right;\">\n",
       "      <th></th>\n",
       "      <th>PassengerId</th>\n",
       "      <th>Survived</th>\n",
       "      <th>Pclass</th>\n",
       "      <th>Fullname</th>\n",
       "      <th>Sex</th>\n",
       "      <th>Age</th>\n",
       "      <th>SibSp</th>\n",
       "      <th>Parch</th>\n",
       "      <th>Ticket</th>\n",
       "      <th>Fare</th>\n",
       "      <th>Cabin</th>\n",
       "      <th>Embarked</th>\n",
       "      <th>RoundedFare</th>\n",
       "    </tr>\n",
       "  </thead>\n",
       "  <tbody>\n",
       "    <tr>\n",
       "      <th>0</th>\n",
       "      <td>0</td>\n",
       "      <td>1</td>\n",
       "      <td>1</td>\n",
       "      <td>Oconnor, Frankie</td>\n",
       "      <td>male</td>\n",
       "      <td>NaN</td>\n",
       "      <td>2</td>\n",
       "      <td>0</td>\n",
       "      <td>209245</td>\n",
       "      <td>27.14</td>\n",
       "      <td>C12239</td>\n",
       "      <td>S</td>\n",
       "      <td>27.0</td>\n",
       "    </tr>\n",
       "    <tr>\n",
       "      <th>1</th>\n",
       "      <td>1</td>\n",
       "      <td>0</td>\n",
       "      <td>3</td>\n",
       "      <td>Bryan, Drew</td>\n",
       "      <td>male</td>\n",
       "      <td>NaN</td>\n",
       "      <td>0</td>\n",
       "      <td>0</td>\n",
       "      <td>27323</td>\n",
       "      <td>13.35</td>\n",
       "      <td>NaN</td>\n",
       "      <td>S</td>\n",
       "      <td>13.0</td>\n",
       "    </tr>\n",
       "    <tr>\n",
       "      <th>2</th>\n",
       "      <td>2</td>\n",
       "      <td>0</td>\n",
       "      <td>3</td>\n",
       "      <td>Owens, Kenneth</td>\n",
       "      <td>male</td>\n",
       "      <td>0.33</td>\n",
       "      <td>1</td>\n",
       "      <td>2</td>\n",
       "      <td>457703</td>\n",
       "      <td>71.29</td>\n",
       "      <td>NaN</td>\n",
       "      <td>S</td>\n",
       "      <td>71.0</td>\n",
       "    </tr>\n",
       "    <tr>\n",
       "      <th>3</th>\n",
       "      <td>3</td>\n",
       "      <td>0</td>\n",
       "      <td>3</td>\n",
       "      <td>Kramer, James</td>\n",
       "      <td>male</td>\n",
       "      <td>19.00</td>\n",
       "      <td>0</td>\n",
       "      <td>0</td>\n",
       "      <td>10866</td>\n",
       "      <td>13.04</td>\n",
       "      <td>NaN</td>\n",
       "      <td>S</td>\n",
       "      <td>13.0</td>\n",
       "    </tr>\n",
       "    <tr>\n",
       "      <th>4</th>\n",
       "      <td>4</td>\n",
       "      <td>1</td>\n",
       "      <td>3</td>\n",
       "      <td>Bond, Michael</td>\n",
       "      <td>male</td>\n",
       "      <td>25.00</td>\n",
       "      <td>0</td>\n",
       "      <td>0</td>\n",
       "      <td>427635</td>\n",
       "      <td>7.76</td>\n",
       "      <td>NaN</td>\n",
       "      <td>S</td>\n",
       "      <td>8.0</td>\n",
       "    </tr>\n",
       "  </tbody>\n",
       "</table>\n",
       "</div>"
      ],
      "text/plain": [
       "  PassengerId  Survived  Pclass          Fullname   Sex    Age  SibSp  Parch  \\\n",
       "0           0         1       1  Oconnor, Frankie  male    NaN      2      0   \n",
       "1           1         0       3       Bryan, Drew  male    NaN      0      0   \n",
       "2           2         0       3    Owens, Kenneth  male   0.33      1      2   \n",
       "3           3         0       3     Kramer, James  male  19.00      0      0   \n",
       "4           4         1       3     Bond, Michael  male  25.00      0      0   \n",
       "\n",
       "   Ticket   Fare   Cabin Embarked  RoundedFare  \n",
       "0  209245  27.14  C12239        S         27.0  \n",
       "1   27323  13.35     NaN        S         13.0  \n",
       "2  457703  71.29     NaN        S         71.0  \n",
       "3   10866  13.04     NaN        S         13.0  \n",
       "4  427635   7.76     NaN        S          8.0  "
      ]
     },
     "execution_count": 69,
     "metadata": {},
     "output_type": "execute_result"
    }
   ],
   "source": [
    "df_pandas.Ticket=df_pandas.Ticket.map(lambda S: str(S).strip(\"CA \").strip(\"/S\").strip(\"PC\").strip(\".\"))\n",
    "df_pandas.head(5)"
   ]
  },
  {
   "cell_type": "code",
   "execution_count": 70,
   "metadata": {
    "colab": {
     "base_uri": "https://localhost:8080/"
    },
    "executionInfo": {
     "elapsed": 454,
     "status": "ok",
     "timestamp": 1658736978172,
     "user": {
      "displayName": "krishnendu dey",
      "userId": "08038349177473993606"
     },
     "user_tz": -330
    },
    "id": "xih3P23KvdnJ",
    "outputId": "3da64edf-3ea9-4353-cc63-1f35fcb669d1",
    "scrolled": true
   },
   "outputs": [
    {
     "name": "stdout",
     "output_type": "stream",
     "text": [
      "+-----------+--------+------+----------------+----+----+-----+-----+-------+-----+------+--------+\n",
      "|PassengerId|Survived|Pclass|        FullName| Sex| Age|SibSp|Parch| Ticket| Fare| Cabin|Embarked|\n",
      "+-----------+--------+------+----------------+----+----+-----+-----+-------+-----+------+--------+\n",
      "|          0|       1|     1|Oconnor, Frankie|male|null|    2|    0| 209245|27.14|C12239|       S|\n",
      "|          1|       0|     3|     Bryan, Drew|male|null|    0|    0|  27323|13.35|  null|       S|\n",
      "|          2|       0|     3|  Owens, Kenneth|male|0.33|    1|    2| 457703|71.29|  null|       S|\n",
      "|          3|       0|     3|   Kramer, James|male|19.0|    0|    0|. 10866|13.04|  null|       S|\n",
      "|          4|       1|     3|   Bond, Michael|male|25.0|    0|    0| 427635| 7.76|  null|       S|\n",
      "+-----------+--------+------+----------------+----+----+-----+-----+-------+-----+------+--------+\n",
      "only showing top 5 rows\n",
      "\n"
     ]
    }
   ],
   "source": [
    "df_pyspark=df_pyspark.withColumn(\"Ticket\",F.regexp_replace(\"Ticket\",\"[CA]|[A]|[P]|/S|/\",\"\"))\n",
    "df_pyspark.show(5)"
   ]
  },
  {
   "cell_type": "markdown",
   "metadata": {
    "id": "0hW-5xeZvdnJ"
   },
   "source": [
    "Replace Male with 0 and Female with 1"
   ]
  },
  {
   "cell_type": "code",
   "execution_count": 71,
   "metadata": {
    "id": "5Q08c7S2vdnJ",
    "outputId": "90a5aaae-138f-4ad5-ca03-8aa0d2c36db9",
    "scrolled": true
   },
   "outputs": [
    {
     "data": {
      "text/html": [
       "<div>\n",
       "<style scoped>\n",
       "    .dataframe tbody tr th:only-of-type {\n",
       "        vertical-align: middle;\n",
       "    }\n",
       "\n",
       "    .dataframe tbody tr th {\n",
       "        vertical-align: top;\n",
       "    }\n",
       "\n",
       "    .dataframe thead th {\n",
       "        text-align: right;\n",
       "    }\n",
       "</style>\n",
       "<table border=\"1\" class=\"dataframe\">\n",
       "  <thead>\n",
       "    <tr style=\"text-align: right;\">\n",
       "      <th></th>\n",
       "      <th>PassengerId</th>\n",
       "      <th>Survived</th>\n",
       "      <th>Pclass</th>\n",
       "      <th>Fullname</th>\n",
       "      <th>Sex</th>\n",
       "      <th>Age</th>\n",
       "      <th>SibSp</th>\n",
       "      <th>Parch</th>\n",
       "      <th>Ticket</th>\n",
       "      <th>Fare</th>\n",
       "      <th>Cabin</th>\n",
       "      <th>Embarked</th>\n",
       "      <th>RoundedFare</th>\n",
       "    </tr>\n",
       "  </thead>\n",
       "  <tbody>\n",
       "    <tr>\n",
       "      <th>0</th>\n",
       "      <td>0</td>\n",
       "      <td>1</td>\n",
       "      <td>1</td>\n",
       "      <td>Oconnor, Frankie</td>\n",
       "      <td>0</td>\n",
       "      <td>NaN</td>\n",
       "      <td>2</td>\n",
       "      <td>0</td>\n",
       "      <td>209245</td>\n",
       "      <td>27.14</td>\n",
       "      <td>C12239</td>\n",
       "      <td>S</td>\n",
       "      <td>27.0</td>\n",
       "    </tr>\n",
       "    <tr>\n",
       "      <th>1</th>\n",
       "      <td>1</td>\n",
       "      <td>0</td>\n",
       "      <td>3</td>\n",
       "      <td>Bryan, Drew</td>\n",
       "      <td>0</td>\n",
       "      <td>NaN</td>\n",
       "      <td>0</td>\n",
       "      <td>0</td>\n",
       "      <td>27323</td>\n",
       "      <td>13.35</td>\n",
       "      <td>NaN</td>\n",
       "      <td>S</td>\n",
       "      <td>13.0</td>\n",
       "    </tr>\n",
       "    <tr>\n",
       "      <th>2</th>\n",
       "      <td>2</td>\n",
       "      <td>0</td>\n",
       "      <td>3</td>\n",
       "      <td>Owens, Kenneth</td>\n",
       "      <td>0</td>\n",
       "      <td>0.33</td>\n",
       "      <td>1</td>\n",
       "      <td>2</td>\n",
       "      <td>457703</td>\n",
       "      <td>71.29</td>\n",
       "      <td>NaN</td>\n",
       "      <td>S</td>\n",
       "      <td>71.0</td>\n",
       "    </tr>\n",
       "    <tr>\n",
       "      <th>3</th>\n",
       "      <td>3</td>\n",
       "      <td>0</td>\n",
       "      <td>3</td>\n",
       "      <td>Kramer, James</td>\n",
       "      <td>0</td>\n",
       "      <td>19.00</td>\n",
       "      <td>0</td>\n",
       "      <td>0</td>\n",
       "      <td>10866</td>\n",
       "      <td>13.04</td>\n",
       "      <td>NaN</td>\n",
       "      <td>S</td>\n",
       "      <td>13.0</td>\n",
       "    </tr>\n",
       "    <tr>\n",
       "      <th>4</th>\n",
       "      <td>4</td>\n",
       "      <td>1</td>\n",
       "      <td>3</td>\n",
       "      <td>Bond, Michael</td>\n",
       "      <td>0</td>\n",
       "      <td>25.00</td>\n",
       "      <td>0</td>\n",
       "      <td>0</td>\n",
       "      <td>427635</td>\n",
       "      <td>7.76</td>\n",
       "      <td>NaN</td>\n",
       "      <td>S</td>\n",
       "      <td>8.0</td>\n",
       "    </tr>\n",
       "  </tbody>\n",
       "</table>\n",
       "</div>"
      ],
      "text/plain": [
       "  PassengerId  Survived  Pclass          Fullname  Sex    Age  SibSp  Parch  \\\n",
       "0           0         1       1  Oconnor, Frankie    0    NaN      2      0   \n",
       "1           1         0       3       Bryan, Drew    0    NaN      0      0   \n",
       "2           2         0       3    Owens, Kenneth    0   0.33      1      2   \n",
       "3           3         0       3     Kramer, James    0  19.00      0      0   \n",
       "4           4         1       3     Bond, Michael    0  25.00      0      0   \n",
       "\n",
       "   Ticket   Fare   Cabin Embarked  RoundedFare  \n",
       "0  209245  27.14  C12239        S         27.0  \n",
       "1   27323  13.35     NaN        S         13.0  \n",
       "2  457703  71.29     NaN        S         71.0  \n",
       "3   10866  13.04     NaN        S         13.0  \n",
       "4  427635   7.76     NaN        S          8.0  "
      ]
     },
     "execution_count": 71,
     "metadata": {},
     "output_type": "execute_result"
    }
   ],
   "source": [
    "df_pandas.Sex=df_pandas.Sex.map({\"male\":0,\"female\":1})\n",
    "df_pandas.head(5)"
   ]
  },
  {
   "cell_type": "code",
   "execution_count": 72,
   "metadata": {
    "colab": {
     "base_uri": "https://localhost:8080/"
    },
    "executionInfo": {
     "elapsed": 404,
     "status": "ok",
     "timestamp": 1658737011782,
     "user": {
      "displayName": "krishnendu dey",
      "userId": "08038349177473993606"
     },
     "user_tz": -330
    },
    "id": "NNvynvStvdnK",
    "outputId": "3e2c2117-bdc2-4b02-88f2-49506b9225b4"
   },
   "outputs": [
    {
     "name": "stdout",
     "output_type": "stream",
     "text": [
      "+-----------+--------+------+----------------+---+----+-----+-----+-------+-----+------+--------+\n",
      "|PassengerId|Survived|Pclass|        FullName|Sex| Age|SibSp|Parch| Ticket| Fare| Cabin|Embarked|\n",
      "+-----------+--------+------+----------------+---+----+-----+-----+-------+-----+------+--------+\n",
      "|          0|       1|     1|Oconnor, Frankie|  0|null|    2|    0| 209245|27.14|C12239|       S|\n",
      "|          1|       0|     3|     Bryan, Drew|  0|null|    0|    0|  27323|13.35|  null|       S|\n",
      "|          2|       0|     3|  Owens, Kenneth|  0|0.33|    1|    2| 457703|71.29|  null|       S|\n",
      "|          3|       0|     3|   Kramer, James|  0|19.0|    0|    0|. 10866|13.04|  null|       S|\n",
      "|          4|       1|     3|   Bond, Michael|  0|25.0|    0|    0| 427635| 7.76|  null|       S|\n",
      "+-----------+--------+------+----------------+---+----+-----+-----+-------+-----+------+--------+\n",
      "only showing top 5 rows\n",
      "\n"
     ]
    }
   ],
   "source": [
    "df_pyspark=df_pyspark.withColumn(\"Sex\",F.regexp_replace(\"Sex\",\"female\",\"1\"))\n",
    "df_pyspark=df_pyspark.withColumn(\"Sex\",F.regexp_replace(\"Sex\",\"male\",\"0\"))\n",
    "df_pyspark.show(5)"
   ]
  },
  {
   "cell_type": "markdown",
   "metadata": {
    "id": "cB4PyRyXvdnL"
   },
   "source": [
    "#### Statistical Describe/Summary"
   ]
  },
  {
   "cell_type": "code",
   "execution_count": 73,
   "metadata": {
    "id": "NHxAs-0LvdnL",
    "outputId": "5fc3687d-de9f-4c1d-8f74-e356efd70a71"
   },
   "outputs": [
    {
     "data": {
      "text/html": [
       "<div>\n",
       "<style scoped>\n",
       "    .dataframe tbody tr th:only-of-type {\n",
       "        vertical-align: middle;\n",
       "    }\n",
       "\n",
       "    .dataframe tbody tr th {\n",
       "        vertical-align: top;\n",
       "    }\n",
       "\n",
       "    .dataframe thead th {\n",
       "        text-align: right;\n",
       "    }\n",
       "</style>\n",
       "<table border=\"1\" class=\"dataframe\">\n",
       "  <thead>\n",
       "    <tr style=\"text-align: right;\">\n",
       "      <th></th>\n",
       "      <th>Pclass</th>\n",
       "      <th>Survived</th>\n",
       "    </tr>\n",
       "  </thead>\n",
       "  <tbody>\n",
       "    <tr>\n",
       "      <th>count</th>\n",
       "      <td>100000.000000</td>\n",
       "      <td>100000.000000</td>\n",
       "    </tr>\n",
       "    <tr>\n",
       "      <th>mean</th>\n",
       "      <td>2.106910</td>\n",
       "      <td>0.427740</td>\n",
       "    </tr>\n",
       "    <tr>\n",
       "      <th>std</th>\n",
       "      <td>0.837727</td>\n",
       "      <td>0.494753</td>\n",
       "    </tr>\n",
       "    <tr>\n",
       "      <th>min</th>\n",
       "      <td>1.000000</td>\n",
       "      <td>0.000000</td>\n",
       "    </tr>\n",
       "    <tr>\n",
       "      <th>25%</th>\n",
       "      <td>1.000000</td>\n",
       "      <td>0.000000</td>\n",
       "    </tr>\n",
       "    <tr>\n",
       "      <th>50%</th>\n",
       "      <td>2.000000</td>\n",
       "      <td>0.000000</td>\n",
       "    </tr>\n",
       "    <tr>\n",
       "      <th>75%</th>\n",
       "      <td>3.000000</td>\n",
       "      <td>1.000000</td>\n",
       "    </tr>\n",
       "    <tr>\n",
       "      <th>max</th>\n",
       "      <td>3.000000</td>\n",
       "      <td>1.000000</td>\n",
       "    </tr>\n",
       "  </tbody>\n",
       "</table>\n",
       "</div>"
      ],
      "text/plain": [
       "              Pclass       Survived\n",
       "count  100000.000000  100000.000000\n",
       "mean        2.106910       0.427740\n",
       "std         0.837727       0.494753\n",
       "min         1.000000       0.000000\n",
       "25%         1.000000       0.000000\n",
       "50%         2.000000       0.000000\n",
       "75%         3.000000       1.000000\n",
       "max         3.000000       1.000000"
      ]
     },
     "execution_count": 73,
     "metadata": {},
     "output_type": "execute_result"
    }
   ],
   "source": [
    "# df_pandas.describe()\n",
    "df_pandas[['Pclass','Survived']].describe()"
   ]
  },
  {
   "cell_type": "code",
   "execution_count": 75,
   "metadata": {
    "colab": {
     "base_uri": "https://localhost:8080/"
    },
    "executionInfo": {
     "elapsed": 2766,
     "status": "ok",
     "timestamp": 1658737043046,
     "user": {
      "displayName": "krishnendu dey",
      "userId": "08038349177473993606"
     },
     "user_tz": -330
    },
    "id": "VFhpOLANvdnL",
    "outputId": "37d4ddfd-128a-4867-d6a9-a0cf51fbf13c",
    "scrolled": false
   },
   "outputs": [
    {
     "name": "stdout",
     "output_type": "stream",
     "text": [
      "+-------+------------------+-------------------+\n",
      "|summary|            Pclass|           Survived|\n",
      "+-------+------------------+-------------------+\n",
      "|  count|            100000|             100000|\n",
      "|   mean|           2.10691|            0.42774|\n",
      "| stddev|0.8377274436072256|0.49475341353991886|\n",
      "|    min|                 1|                  0|\n",
      "|    25%|                 1|                  0|\n",
      "|    50%|                 2|                  0|\n",
      "|    75%|                 3|                  1|\n",
      "|    max|                 3|                  1|\n",
      "+-------+------------------+-------------------+\n",
      "\n"
     ]
    }
   ],
   "source": [
    "df_pyspark.select('Pclass','Survived').summary().show()\n",
    "# Close alternate query : df_pyspark.describe(['Pclass','Survived']).show()\n",
    "# For the whole dataframe : df_pyspark.summary().show()"
   ]
  },
  {
   "cell_type": "code",
   "execution_count": 76,
   "metadata": {
    "id": "j7mOxmrVvdnL"
   },
   "outputs": [],
   "source": [
    "quantiles=[0.25,0.50,0.75,0.90]"
   ]
  },
  {
   "cell_type": "code",
   "execution_count": 77,
   "metadata": {
    "colab": {
     "base_uri": "https://localhost:8080/",
     "height": 112
    },
    "executionInfo": {
     "elapsed": 7,
     "status": "ok",
     "timestamp": 1658737050810,
     "user": {
      "displayName": "krishnendu dey",
      "userId": "08038349177473993606"
     },
     "user_tz": -330
    },
    "id": "-E2JsE3rvdnM",
    "outputId": "18ede2cc-38c5-4688-f47c-1a309015ded9"
   },
   "outputs": [
    {
     "data": {
      "text/html": [
       "<div>\n",
       "<style scoped>\n",
       "    .dataframe tbody tr th:only-of-type {\n",
       "        vertical-align: middle;\n",
       "    }\n",
       "\n",
       "    .dataframe tbody tr th {\n",
       "        vertical-align: top;\n",
       "    }\n",
       "\n",
       "    .dataframe thead th {\n",
       "        text-align: right;\n",
       "    }\n",
       "</style>\n",
       "<table border=\"1\" class=\"dataframe\">\n",
       "  <thead>\n",
       "    <tr style=\"text-align: right;\">\n",
       "      <th></th>\n",
       "      <th>count</th>\n",
       "      <th>mean</th>\n",
       "      <th>std</th>\n",
       "      <th>min</th>\n",
       "      <th>25%</th>\n",
       "      <th>50%</th>\n",
       "      <th>75%</th>\n",
       "      <th>90%</th>\n",
       "      <th>max</th>\n",
       "    </tr>\n",
       "  </thead>\n",
       "  <tbody>\n",
       "    <tr>\n",
       "      <th>Pclass</th>\n",
       "      <td>100000.0</td>\n",
       "      <td>2.10691</td>\n",
       "      <td>0.837727</td>\n",
       "      <td>1.0</td>\n",
       "      <td>1.0</td>\n",
       "      <td>2.0</td>\n",
       "      <td>3.0</td>\n",
       "      <td>3.0</td>\n",
       "      <td>3.0</td>\n",
       "    </tr>\n",
       "    <tr>\n",
       "      <th>Survived</th>\n",
       "      <td>100000.0</td>\n",
       "      <td>0.42774</td>\n",
       "      <td>0.494753</td>\n",
       "      <td>0.0</td>\n",
       "      <td>0.0</td>\n",
       "      <td>0.0</td>\n",
       "      <td>1.0</td>\n",
       "      <td>1.0</td>\n",
       "      <td>1.0</td>\n",
       "    </tr>\n",
       "  </tbody>\n",
       "</table>\n",
       "</div>"
      ],
      "text/plain": [
       "             count     mean       std  min  25%  50%  75%  90%  max\n",
       "Pclass    100000.0  2.10691  0.837727  1.0  1.0  2.0  3.0  3.0  3.0\n",
       "Survived  100000.0  0.42774  0.494753  0.0  0.0  0.0  1.0  1.0  1.0"
      ]
     },
     "execution_count": 77,
     "metadata": {},
     "output_type": "execute_result"
    }
   ],
   "source": [
    "df_pandas[['Pclass','Survived']].describe(percentiles=quantiles).T"
   ]
  },
  {
   "cell_type": "code",
   "execution_count": 80,
   "metadata": {
    "colab": {
     "base_uri": "https://localhost:8080/"
    },
    "executionInfo": {
     "elapsed": 1454,
     "status": "ok",
     "timestamp": 1658737054280,
     "user": {
      "displayName": "krishnendu dey",
      "userId": "08038349177473993606"
     },
     "user_tz": -330
    },
    "id": "NGlebYlFvdnM",
    "outputId": "be45738d-9b88-4cec-f2c7-356337015636"
   },
   "outputs": [
    {
     "data": {
      "text/plain": [
       "[[1.0, 2.0, 3.0, 3.0], [0.0, 0.0, 1.0, 1.0]]"
      ]
     },
     "execution_count": 80,
     "metadata": {},
     "output_type": "execute_result"
    }
   ],
   "source": [
    "# As spark is a distributed system so we do not get quantiles but approxQuantile\n",
    "df_pyspark.approxQuantile(['Pclass','Survived'],quantiles,0.05) # 0.05=Error Tolerance "
   ]
  },
  {
   "cell_type": "markdown",
   "metadata": {
    "id": "08BSSwh6lyw0"
   },
   "source": [
    "#### Values/Collect"
   ]
  },
  {
   "cell_type": "code",
   "execution_count": 81,
   "metadata": {
    "colab": {
     "base_uri": "https://localhost:8080/"
    },
    "executionInfo": {
     "elapsed": 4,
     "status": "ok",
     "timestamp": 1658756659751,
     "user": {
      "displayName": "krishnendu dey",
      "userId": "08038349177473993606"
     },
     "user_tz": -330
    },
    "id": "tcQjRWzrmA6F",
    "outputId": "5252867d-00a2-44c0-b9bd-46da6fd256bb"
   },
   "outputs": [
    {
     "data": {
      "text/plain": [
       "array([['0', 1, 1, 'Oconnor, Frankie', 0, nan, 2, 0, '209245', 27.14,\n",
       "        'C12239', 'S', 27.0],\n",
       "       ['1', 0, 3, 'Bryan, Drew', 0, nan, 0, 0, '27323', 13.35, nan, 'S',\n",
       "        13.0],\n",
       "       ['2', 0, 3, 'Owens, Kenneth', 0, 0.33, 1, 2, '457703', 71.29, nan,\n",
       "        'S', 71.0]], dtype=object)"
      ]
     },
     "execution_count": 81,
     "metadata": {},
     "output_type": "execute_result"
    }
   ],
   "source": [
    "df_pandas.values[:3]                            # Represents the row values in the form of an array of numpy.ndarray"
   ]
  },
  {
   "cell_type": "code",
   "execution_count": 82,
   "metadata": {
    "colab": {
     "base_uri": "https://localhost:8080/"
    },
    "executionInfo": {
     "elapsed": 6,
     "status": "ok",
     "timestamp": 1658756868184,
     "user": {
      "displayName": "krishnendu dey",
      "userId": "08038349177473993606"
     },
     "user_tz": -330
    },
    "id": "9qQ2ZgL3nL_r",
    "outputId": "fb253d1b-939b-4751-df41-6d89087c4565"
   },
   "outputs": [
    {
     "name": "stdout",
     "output_type": "stream",
     "text": [
      "<class 'numpy.ndarray'>\n"
     ]
    }
   ],
   "source": [
    "print(type(df_pandas.values[0]))"
   ]
  },
  {
   "cell_type": "code",
   "execution_count": 83,
   "metadata": {
    "colab": {
     "base_uri": "https://localhost:8080/"
    },
    "executionInfo": {
     "elapsed": 3235,
     "status": "ok",
     "timestamp": 1658756711908,
     "user": {
      "displayName": "krishnendu dey",
      "userId": "08038349177473993606"
     },
     "user_tz": -330
    },
    "id": "QkTuHdYCvdnW",
    "outputId": "fd2bbfff-2e36-4559-9e9d-2fc336f4118a"
   },
   "outputs": [
    {
     "data": {
      "text/plain": [
       "[Row(PassengerId=0, Survived=1, Pclass=1, FullName='Oconnor, Frankie', Sex='0', Age=None, SibSp=2, Parch=0, Ticket='209245', Fare=27.14, Cabin='C12239', Embarked='S'),\n",
       " Row(PassengerId=1, Survived=0, Pclass=3, FullName='Bryan, Drew', Sex='0', Age=None, SibSp=0, Parch=0, Ticket='27323', Fare=13.35, Cabin=None, Embarked='S'),\n",
       " Row(PassengerId=2, Survived=0, Pclass=3, FullName='Owens, Kenneth', Sex='0', Age=0.33, SibSp=1, Parch=2, Ticket=' 457703', Fare=71.29, Cabin=None, Embarked='S')]"
      ]
     },
     "execution_count": 83,
     "metadata": {},
     "output_type": "execute_result"
    }
   ],
   "source": [
    "df_pyspark.collect()[:3]                       # Represents the row values in the form of a list of sql rows types "
   ]
  },
  {
   "cell_type": "code",
   "execution_count": 84,
   "metadata": {
    "colab": {
     "base_uri": "https://localhost:8080/"
    },
    "executionInfo": {
     "elapsed": 1264,
     "status": "ok",
     "timestamp": 1658756838618,
     "user": {
      "displayName": "krishnendu dey",
      "userId": "08038349177473993606"
     },
     "user_tz": -330
    },
    "id": "4pz7sFQkl6kw",
    "outputId": "0d9fb101-0416-484d-9401-ebb8d08dd788"
   },
   "outputs": [
    {
     "data": {
      "text/plain": [
       "pyspark.sql.types.Row"
      ]
     },
     "execution_count": 84,
     "metadata": {},
     "output_type": "execute_result"
    }
   ],
   "source": [
    "type(df_pyspark.collect()[0])"
   ]
  },
  {
   "cell_type": "markdown",
   "metadata": {
    "id": "2FBhzwBendA8"
   },
   "source": [
    "#### Row->Dictionary"
   ]
  },
  {
   "cell_type": "code",
   "execution_count": 85,
   "metadata": {
    "colab": {
     "base_uri": "https://localhost:8080/"
    },
    "executionInfo": {
     "elapsed": 417,
     "status": "ok",
     "timestamp": 1658757173485,
     "user": {
      "displayName": "krishnendu dey",
      "userId": "08038349177473993606"
     },
     "user_tz": -330
    },
    "id": "DLmkl6PYn0oK",
    "outputId": "5246951d-d97a-4cf4-f595-5ab0f4625d83"
   },
   "outputs": [
    {
     "data": {
      "text/plain": [
       "{'PassengerId': '0',\n",
       " 'Survived': 1,\n",
       " 'Pclass': 1,\n",
       " 'Fullname': 'Oconnor, Frankie',\n",
       " 'Sex': 0,\n",
       " 'Age': nan,\n",
       " 'SibSp': 2,\n",
       " 'Parch': 0,\n",
       " 'Ticket': '209245',\n",
       " 'Fare': 27.14,\n",
       " 'Cabin': 'C12239',\n",
       " 'Embarked': 'S',\n",
       " 'RoundedFare': 27.0}"
      ]
     },
     "execution_count": 85,
     "metadata": {},
     "output_type": "execute_result"
    }
   ],
   "source": [
    "df_pandas.loc[0].to_dict()"
   ]
  },
  {
   "cell_type": "code",
   "execution_count": 86,
   "metadata": {
    "colab": {
     "base_uri": "https://localhost:8080/"
    },
    "executionInfo": {
     "elapsed": 1670,
     "status": "ok",
     "timestamp": 1658757177010,
     "user": {
      "displayName": "krishnendu dey",
      "userId": "08038349177473993606"
     },
     "user_tz": -330
    },
    "id": "vqZDgA1Cmxn_",
    "outputId": "3496c22e-4939-40be-8d3e-8b82c9dd478c"
   },
   "outputs": [
    {
     "data": {
      "text/plain": [
       "{'PassengerId': 0,\n",
       " 'Survived': 1,\n",
       " 'Pclass': 1,\n",
       " 'FullName': 'Oconnor, Frankie',\n",
       " 'Sex': '0',\n",
       " 'Age': None,\n",
       " 'SibSp': 2,\n",
       " 'Parch': 0,\n",
       " 'Ticket': '209245',\n",
       " 'Fare': 27.14,\n",
       " 'Cabin': 'C12239',\n",
       " 'Embarked': 'S'}"
      ]
     },
     "execution_count": 86,
     "metadata": {},
     "output_type": "execute_result"
    }
   ],
   "source": [
    "df_pyspark.collect()[0].asDict()"
   ]
  },
  {
   "cell_type": "code",
   "execution_count": null,
   "metadata": {
    "id": "71S4vGa8nEUH"
   },
   "outputs": [],
   "source": []
  }
 ],
 "metadata": {
  "colab": {
   "collapsed_sections": [
    "rRaIJU3hvdmq",
    "EB3qVXOSvdmy",
    "sqKUXOfCvdm0",
    "qFiVw98Mvdm1",
    "eVPQvhSXvdm2",
    "pxwUtAY-vdm4",
    "4rTOTmfTvdm5",
    "Otjh2gvxvdm6",
    "D7TjIezCvdm7",
    "kOk38PTpvdm8",
    "c69pB8oGvdm9",
    "jmkCD5Qu2mmt",
    "ISAuP_3xvdnA",
    "X_pEEO61vdnD",
    "UzX3ULipvdnE",
    "1OtiHcPDvdnE",
    "XpadBceHuvRP",
    "Du-Sj-QVvdnG",
    "464XqFHsvdnG",
    "CyrbqtPxvdnH",
    "GoxpTsz-vdnI",
    "4Ly1Y_MwvdnU",
    "08BSSwh6lyw0",
    "2FBhzwBendA8"
   ],
   "name": "PySpark.ipynb",
   "provenance": []
  },
  "kernelspec": {
   "display_name": "Python 3 (ipykernel)",
   "language": "python",
   "name": "python3"
  },
  "language_info": {
   "codemirror_mode": {
    "name": "ipython",
    "version": 3
   },
   "file_extension": ".py",
   "mimetype": "text/x-python",
   "name": "python",
   "nbconvert_exporter": "python",
   "pygments_lexer": "ipython3",
   "version": "3.9.13"
  }
 },
 "nbformat": 4,
 "nbformat_minor": 1
}
